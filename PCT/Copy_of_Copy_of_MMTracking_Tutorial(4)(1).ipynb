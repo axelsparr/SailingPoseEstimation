{
  "cells": [
    {
      "attachments": {},
      "cell_type": "markdown",
      "id": "a9d79da1-6001-4f97-8381-b11b5516e640",
      "metadata": {
        "id": "a9d79da1-6001-4f97-8381-b11b5516e640",
        "tags": []
      },
      "source": [
        "[![Open In Colab](https://colab.research.google.com/assets/colab-badge.svg)](https://colab.research.google.com/github/open-mmlab/mmtracking/blob/master/demo/MMTracking_Tutorial.ipynb)\n",
        "\n",
        "# **Welcome to MMTracking**"
      ]
    },
    {
      "attachments": {},
      "cell_type": "markdown",
      "id": "527a563a-c8b2-44f0-ae20-0d226ab1e547",
      "metadata": {
        "id": "527a563a-c8b2-44f0-ae20-0d226ab1e547"
      },
      "source": [
        "In this tutorial, you will learn to:\n",
        "+ Install MMTracking.\n",
        "+ Perform inference with pretrained weights in MMTracking.\n",
        "+ Train a new MOT model with a toy dataset.\n",
        "Let's start!"
      ]
    },
    {
      "attachments": {},
      "cell_type": "markdown",
      "id": "ab2c382c-a169-46fe-938f-c6687d763e8e",
      "metadata": {
        "id": "ab2c382c-a169-46fe-938f-c6687d763e8e"
      },
      "source": [
        "## **Install MMTracking**"
      ]
    },
    {
      "cell_type": "code",
      "execution_count": 1,
      "id": "f8ced8f4-b07b-4216-8953-f7af6928b77c",
      "metadata": {
        "colab": {
          "base_uri": "https://localhost:8080/"
        },
        "id": "f8ced8f4-b07b-4216-8953-f7af6928b77c",
        "outputId": "15ae1e12-6736-44ad-e434-3bccbaeb0ba3"
      },
      "outputs": [
        {
          "name": "stdout",
          "output_type": "stream",
          "text": [
            "nvcc: NVIDIA (R) Cuda compiler driver\n",
            "Copyright (c) 2005-2022 NVIDIA Corporation\n",
            "Built on Wed_Sep_21_10:33:58_PDT_2022\n",
            "Cuda compilation tools, release 11.8, V11.8.89\n",
            "Build cuda_11.8.r11.8/compiler.31833905_0\n",
            "gcc (Ubuntu 9.4.0-1ubuntu1~20.04.1) 9.4.0\n",
            "Copyright (C) 2019 Free Software Foundation, Inc.\n",
            "This is free software; see the source for copying conditions.  There is NO\n",
            "warranty; not even for MERCHANTABILITY or FITNESS FOR A PARTICULAR PURPOSE.\n",
            "\n"
          ]
        }
      ],
      "source": [
        "# Check nvcc version\n",
        "!nvcc -V\n",
        "# Check GCC version\n",
        "!gcc --version\n"
      ]
    },
    {
      "cell_type": "code",
      "execution_count": 2,
      "id": "6b4f093f-e197-42bd-ba64-dc905e379382",
      "metadata": {
        "colab": {
          "base_uri": "https://localhost:8080/"
        },
        "id": "6b4f093f-e197-42bd-ba64-dc905e379382",
        "outputId": "42e4dbc2-632a-4fac-89a9-8f2dd41637b3"
      },
      "outputs": [
        {
          "name": "stdout",
          "output_type": "stream",
          "text": [
            "Looking in indexes: https://pypi.org/simple, https://us-python.pkg.dev/colab-wheels/public/simple/\n",
            "Looking in links: https://download.openmmlab.com/mmcv/dist/cu111/torch1.10.0/index.html\n",
            "Collecting mmcv-full\n",
            "  Downloading mmcv-full-1.7.1.tar.gz (605 kB)\n",
            "\u001b[2K     \u001b[90m━━━━━━━━━━━━━━━━━━━━━━━━━━━━━━━━━━━━━━\u001b[0m \u001b[32m605.4/605.4 kB\u001b[0m \u001b[31m11.6 MB/s\u001b[0m eta \u001b[36m0:00:00\u001b[0m\n",
            "\u001b[?25h  Preparing metadata (setup.py) ... \u001b[?25l\u001b[?25hdone\n",
            "Collecting addict (from mmcv-full)\n",
            "  Downloading addict-2.4.0-py3-none-any.whl (3.8 kB)\n",
            "Requirement already satisfied: numpy in /usr/local/lib/python3.10/dist-packages (from mmcv-full) (1.22.4)\n",
            "Requirement already satisfied: packaging in /usr/local/lib/python3.10/dist-packages (from mmcv-full) (23.1)\n",
            "Requirement already satisfied: Pillow in /usr/local/lib/python3.10/dist-packages (from mmcv-full) (8.4.0)\n",
            "Requirement already satisfied: pyyaml in /usr/local/lib/python3.10/dist-packages (from mmcv-full) (6.0)\n",
            "Collecting yapf (from mmcv-full)\n",
            "  Downloading yapf-0.40.1-py3-none-any.whl (250 kB)\n",
            "\u001b[2K     \u001b[90m━━━━━━━━━━━━━━━━━━━━━━━━━━━━━━━━━━━━━━\u001b[0m \u001b[32m250.3/250.3 kB\u001b[0m \u001b[31m27.0 MB/s\u001b[0m eta \u001b[36m0:00:00\u001b[0m\n",
            "\u001b[?25hCollecting importlib-metadata>=6.6.0 (from yapf->mmcv-full)\n",
            "  Downloading importlib_metadata-6.7.0-py3-none-any.whl (22 kB)\n",
            "Collecting platformdirs>=3.5.1 (from yapf->mmcv-full)\n",
            "  Downloading platformdirs-3.6.0-py3-none-any.whl (16 kB)\n",
            "Requirement already satisfied: tomli>=2.0.1 in /usr/local/lib/python3.10/dist-packages (from yapf->mmcv-full) (2.0.1)\n",
            "Requirement already satisfied: zipp>=0.5 in /usr/local/lib/python3.10/dist-packages (from importlib-metadata>=6.6.0->yapf->mmcv-full) (3.15.0)\n",
            "Building wheels for collected packages: mmcv-full\n",
            "  Building wheel for mmcv-full (setup.py) ... \u001b[?25l\u001b[?25hdone\n",
            "  Created wheel for mmcv-full: filename=mmcv_full-1.7.1-cp310-cp310-linux_x86_64.whl size=34514484 sha256=56cc0a4382e6a6bf4d720ff41e0663d5090c417270becbfbea6fddb59bd58504\n",
            "  Stored in directory: /root/.cache/pip/wheels/47/9a/65/470be18e21a8f2d085a024f0731508273543de0b5f79d9ddd4\n",
            "Successfully built mmcv-full\n",
            "Installing collected packages: addict, platformdirs, importlib-metadata, yapf, mmcv-full\n",
            "  Attempting uninstall: platformdirs\n",
            "    Found existing installation: platformdirs 3.3.0\n",
            "    Uninstalling platformdirs-3.3.0:\n",
            "      Successfully uninstalled platformdirs-3.3.0\n",
            "Successfully installed addict-2.4.0 importlib-metadata-6.7.0 mmcv-full-1.7.1 platformdirs-3.6.0 yapf-0.40.1\n",
            "Looking in indexes: https://pypi.org/simple, https://us-python.pkg.dev/colab-wheels/public/simple/\n",
            "Collecting mmdet\n",
            "  Downloading mmdet-3.0.0-py3-none-any.whl (1.7 MB)\n",
            "\u001b[2K     \u001b[90m━━━━━━━━━━━━━━━━━━━━━━━━━━━━━━━━━━━━━━━━\u001b[0m \u001b[32m1.7/1.7 MB\u001b[0m \u001b[31m18.0 MB/s\u001b[0m eta \u001b[36m0:00:00\u001b[0m\n",
            "\u001b[?25hRequirement already satisfied: matplotlib in /usr/local/lib/python3.10/dist-packages (from mmdet) (3.7.1)\n",
            "Requirement already satisfied: numpy in /usr/local/lib/python3.10/dist-packages (from mmdet) (1.22.4)\n",
            "Requirement already satisfied: pycocotools in /usr/local/lib/python3.10/dist-packages (from mmdet) (2.0.6)\n",
            "Requirement already satisfied: scipy in /usr/local/lib/python3.10/dist-packages (from mmdet) (1.10.1)\n",
            "Requirement already satisfied: shapely in /usr/local/lib/python3.10/dist-packages (from mmdet) (2.0.1)\n",
            "Requirement already satisfied: six in /usr/local/lib/python3.10/dist-packages (from mmdet) (1.16.0)\n",
            "Collecting terminaltables (from mmdet)\n",
            "  Downloading terminaltables-3.1.10-py2.py3-none-any.whl (15 kB)\n",
            "Requirement already satisfied: contourpy>=1.0.1 in /usr/local/lib/python3.10/dist-packages (from matplotlib->mmdet) (1.0.7)\n",
            "Requirement already satisfied: cycler>=0.10 in /usr/local/lib/python3.10/dist-packages (from matplotlib->mmdet) (0.11.0)\n",
            "Requirement already satisfied: fonttools>=4.22.0 in /usr/local/lib/python3.10/dist-packages (from matplotlib->mmdet) (4.39.3)\n",
            "Requirement already satisfied: kiwisolver>=1.0.1 in /usr/local/lib/python3.10/dist-packages (from matplotlib->mmdet) (1.4.4)\n",
            "Requirement already satisfied: packaging>=20.0 in /usr/local/lib/python3.10/dist-packages (from matplotlib->mmdet) (23.1)\n",
            "Requirement already satisfied: pillow>=6.2.0 in /usr/local/lib/python3.10/dist-packages (from matplotlib->mmdet) (8.4.0)\n",
            "Requirement already satisfied: pyparsing>=2.3.1 in /usr/local/lib/python3.10/dist-packages (from matplotlib->mmdet) (3.0.9)\n",
            "Requirement already satisfied: python-dateutil>=2.7 in /usr/local/lib/python3.10/dist-packages (from matplotlib->mmdet) (2.8.2)\n",
            "Installing collected packages: terminaltables, mmdet\n",
            "Successfully installed mmdet-3.0.0 terminaltables-3.1.10\n",
            "Cloning into 'mmtracking'...\n",
            "remote: Enumerating objects: 7927, done.\u001b[K\n",
            "remote: Counting objects: 100% (12/12), done.\u001b[K\n",
            "remote: Compressing objects: 100% (12/12), done.\u001b[K\n",
            "remote: Total 7927 (delta 0), reused 6 (delta 0), pack-reused 7915\u001b[K\n",
            "Receiving objects: 100% (7927/7927), 2.92 MiB | 12.73 MiB/s, done.\n",
            "Resolving deltas: 100% (5016/5016), done.\n",
            "/content/mmtracking\n",
            "Looking in indexes: https://pypi.org/simple, https://us-python.pkg.dev/colab-wheels/public/simple/\n",
            "Requirement already satisfied: cython in /usr/local/lib/python3.10/dist-packages (from -r requirements/build.txt (line 1)) (0.29.34)\n",
            "Requirement already satisfied: numpy in /usr/local/lib/python3.10/dist-packages (from -r requirements/build.txt (line 2)) (1.22.4)\n",
            "Looking in indexes: https://pypi.org/simple, https://us-python.pkg.dev/colab-wheels/public/simple/\n",
            "Obtaining file:///content/mmtracking\n",
            "  Preparing metadata (setup.py) ... \u001b[?25l\u001b[?25hdone\n",
            "Collecting attributee (from mmtrack==0.14.0)\n",
            "  Downloading attributee-0.1.8.tar.gz (11 kB)\n",
            "  Preparing metadata (setup.py) ... \u001b[?25l\u001b[?25hdone\n",
            "Collecting dotty_dict (from mmtrack==0.14.0)\n",
            "  Downloading dotty_dict-1.3.1-py3-none-any.whl (7.0 kB)\n",
            "Collecting einops (from mmtrack==0.14.0)\n",
            "  Downloading einops-0.6.1-py3-none-any.whl (42 kB)\n",
            "\u001b[2K     \u001b[90m━━━━━━━━━━━━━━━━━━━━━━━━━━━━━━━━━━━━━━━━\u001b[0m \u001b[32m42.2/42.2 kB\u001b[0m \u001b[31m2.8 MB/s\u001b[0m eta \u001b[36m0:00:00\u001b[0m\n",
            "\u001b[?25hCollecting lap (from mmtrack==0.14.0)\n",
            "  Downloading lap-0.4.0.tar.gz (1.5 MB)\n",
            "\u001b[2K     \u001b[90m━━━━━━━━━━━━━━━━━━━━━━━━━━━━━━━━━━━━━━━━\u001b[0m \u001b[32m1.5/1.5 MB\u001b[0m \u001b[31m29.4 MB/s\u001b[0m eta \u001b[36m0:00:00\u001b[0m\n",
            "\u001b[?25h  Preparing metadata (setup.py) ... \u001b[?25l\u001b[?25hdone\n",
            "Requirement already satisfied: matplotlib in /usr/local/lib/python3.10/dist-packages (from mmtrack==0.14.0) (3.7.1)\n",
            "Collecting mmcls<1.0.0,>=0.16.0 (from mmtrack==0.14.0)\n",
            "  Downloading mmcls-0.25.0-py2.py3-none-any.whl (648 kB)\n",
            "\u001b[2K     \u001b[90m━━━━━━━━━━━━━━━━━━━━━━━━━━━━━━━━━━━━━━\u001b[0m \u001b[32m648.8/648.8 kB\u001b[0m \u001b[31m49.1 MB/s\u001b[0m eta \u001b[36m0:00:00\u001b[0m\n",
            "\u001b[?25hCollecting motmetrics (from mmtrack==0.14.0)\n",
            "  Downloading motmetrics-1.4.0-py3-none-any.whl (161 kB)\n",
            "\u001b[2K     \u001b[90m━━━━━━━━━━━━━━━━━━━━━━━━━━━━━━━━━━━━━━\u001b[0m \u001b[32m161.5/161.5 kB\u001b[0m \u001b[31m25.2 MB/s\u001b[0m eta \u001b[36m0:00:00\u001b[0m\n",
            "\u001b[?25hRequirement already satisfied: packaging in /usr/local/lib/python3.10/dist-packages (from mmtrack==0.14.0) (23.1)\n",
            "Collecting pandas<=1.3.5 (from mmtrack==0.14.0)\n",
            "  Downloading pandas-1.3.5-cp310-cp310-manylinux_2_17_x86_64.manylinux2014_x86_64.whl (11.5 MB)\n",
            "\u001b[2K     \u001b[90m━━━━━━━━━━━━━━━━━━━━━━━━━━━━━━━━━━━━━━━━\u001b[0m \u001b[32m11.5/11.5 MB\u001b[0m \u001b[31m92.9 MB/s\u001b[0m eta \u001b[36m0:00:00\u001b[0m\n",
            "\u001b[?25hRequirement already satisfied: pycocotools in /usr/local/lib/python3.10/dist-packages (from mmtrack==0.14.0) (2.0.6)\n",
            "Collecting scipy<=1.7.3 (from mmtrack==0.14.0)\n",
            "  Downloading scipy-1.7.3-cp310-cp310-manylinux_2_17_x86_64.manylinux2014_x86_64.whl (39.9 MB)\n",
            "\u001b[2K     \u001b[90m━━━━━━━━━━━━━━━━━━━━━━━━━━━━━━━━━━━━━━━━\u001b[0m \u001b[32m39.9/39.9 MB\u001b[0m \u001b[31m34.7 MB/s\u001b[0m eta \u001b[36m0:00:00\u001b[0m\n",
            "\u001b[?25hRequirement already satisfied: seaborn in /usr/local/lib/python3.10/dist-packages (from mmtrack==0.14.0) (0.12.2)\n",
            "Requirement already satisfied: terminaltables in /usr/local/lib/python3.10/dist-packages (from mmtrack==0.14.0) (3.1.10)\n",
            "Requirement already satisfied: tqdm in /usr/local/lib/python3.10/dist-packages (from mmtrack==0.14.0) (4.65.0)\n",
            "Requirement already satisfied: numpy in /usr/local/lib/python3.10/dist-packages (from mmcls<1.0.0,>=0.16.0->mmtrack==0.14.0) (1.22.4)\n",
            "Requirement already satisfied: contourpy>=1.0.1 in /usr/local/lib/python3.10/dist-packages (from matplotlib->mmtrack==0.14.0) (1.0.7)\n",
            "Requirement already satisfied: cycler>=0.10 in /usr/local/lib/python3.10/dist-packages (from matplotlib->mmtrack==0.14.0) (0.11.0)\n",
            "Requirement already satisfied: fonttools>=4.22.0 in /usr/local/lib/python3.10/dist-packages (from matplotlib->mmtrack==0.14.0) (4.39.3)\n",
            "Requirement already satisfied: kiwisolver>=1.0.1 in /usr/local/lib/python3.10/dist-packages (from matplotlib->mmtrack==0.14.0) (1.4.4)\n",
            "Requirement already satisfied: pillow>=6.2.0 in /usr/local/lib/python3.10/dist-packages (from matplotlib->mmtrack==0.14.0) (8.4.0)\n",
            "Requirement already satisfied: pyparsing>=2.3.1 in /usr/local/lib/python3.10/dist-packages (from matplotlib->mmtrack==0.14.0) (3.0.9)\n",
            "Requirement already satisfied: python-dateutil>=2.7 in /usr/local/lib/python3.10/dist-packages (from matplotlib->mmtrack==0.14.0) (2.8.2)\n",
            "Requirement already satisfied: pytz>=2017.3 in /usr/local/lib/python3.10/dist-packages (from pandas<=1.3.5->mmtrack==0.14.0) (2022.7.1)\n",
            "Collecting xmltodict>=0.12.0 (from motmetrics->mmtrack==0.14.0)\n",
            "  Downloading xmltodict-0.13.0-py2.py3-none-any.whl (10.0 kB)\n",
            "Requirement already satisfied: six>=1.5 in /usr/local/lib/python3.10/dist-packages (from python-dateutil>=2.7->matplotlib->mmtrack==0.14.0) (1.16.0)\n",
            "Building wheels for collected packages: attributee, lap\n",
            "  Building wheel for attributee (setup.py) ... \u001b[?25l\u001b[?25hdone\n",
            "  Created wheel for attributee: filename=attributee-0.1.8-py3-none-any.whl size=12859 sha256=cabda8fa6fcfea391b826a23f99dd9b48a3eec7587aef45b3701ef04f7faf7b3\n",
            "  Stored in directory: /root/.cache/pip/wheels/0a/e2/ab/3292c3de25a615d3ef2011d65e68f103c025d82149ac6c2f14\n",
            "  Building wheel for lap (setup.py) ... \u001b[?25l\u001b[?25hdone\n",
            "  Created wheel for lap: filename=lap-0.4.0-cp310-cp310-linux_x86_64.whl size=1655216 sha256=739826516a4e88836bb5a8f45cbf7c85ed2983e4aece29026439d3b98240b3d8\n",
            "  Stored in directory: /root/.cache/pip/wheels/00/42/2e/9dfe19270eea279d79e84767ff0d7b8082c3bf776cad00e83d\n",
            "Successfully built attributee lap\n",
            "Installing collected packages: lap, xmltodict, scipy, einops, dotty_dict, attributee, pandas, motmetrics, mmcls, mmtrack\n",
            "  Attempting uninstall: scipy\n",
            "    Found existing installation: scipy 1.10.1\n",
            "    Uninstalling scipy-1.10.1:\n",
            "      Successfully uninstalled scipy-1.10.1\n",
            "  Attempting uninstall: pandas\n",
            "    Found existing installation: pandas 1.5.3\n",
            "    Uninstalling pandas-1.5.3:\n",
            "      Successfully uninstalled pandas-1.5.3\n",
            "  Running setup.py develop for mmtrack\n",
            "\u001b[31mERROR: pip's dependency resolver does not currently take into account all the packages that are installed. This behaviour is the source of the following dependency conflicts.\n",
            "arviz 0.15.1 requires scipy>=1.8.0, but you have scipy 1.7.3 which is incompatible.\n",
            "google-colab 1.0.0 requires pandas==1.5.3, but you have pandas 1.3.5 which is incompatible.\u001b[0m\u001b[31m\n",
            "\u001b[0mSuccessfully installed attributee-0.1.8 dotty_dict-1.3.1 einops-0.6.1 lap-0.4.0 mmcls-0.25.0 mmtrack-0.14.0 motmetrics-1.4.0 pandas-1.3.5 scipy-1.7.3 xmltodict-0.13.0\n",
            "Looking in indexes: https://pypi.org/simple, https://us-python.pkg.dev/colab-wheels/public/simple/\n",
            "Collecting git+https://github.com/JonathonLuiten/TrackEval.git\n",
            "  Cloning https://github.com/JonathonLuiten/TrackEval.git to /tmp/pip-req-build-hkmvrtfb\n",
            "  Running command git clone --filter=blob:none --quiet https://github.com/JonathonLuiten/TrackEval.git /tmp/pip-req-build-hkmvrtfb\n",
            "  Resolved https://github.com/JonathonLuiten/TrackEval.git to commit 12c8791b303e0a0b50f753af204249e622d0281a\n",
            "  Installing build dependencies ... \u001b[?25l\u001b[?25hdone\n",
            "  Getting requirements to build wheel ... \u001b[?25l\u001b[?25hdone\n",
            "  Preparing metadata (pyproject.toml) ... \u001b[?25l\u001b[?25hdone\n",
            "Requirement already satisfied: numpy in /usr/local/lib/python3.10/dist-packages (from trackeval==1.0.dev1) (1.22.4)\n",
            "Requirement already satisfied: scipy in /usr/local/lib/python3.10/dist-packages (from trackeval==1.0.dev1) (1.7.3)\n",
            "Building wheels for collected packages: trackeval\n",
            "  Building wheel for trackeval (pyproject.toml) ... \u001b[?25l\u001b[?25hdone\n",
            "  Created wheel for trackeval: filename=trackeval-1.0.dev1-py3-none-any.whl size=149965 sha256=1e4291fe997f993c2ecbc8fd8c6e13ebc7770f0d3a7752fec32759a9e3539629\n",
            "  Stored in directory: /tmp/pip-ephem-wheel-cache-s42yfhgk/wheels/bf/6f/b9/d7f59588070500e34ef9a3377da7dbff1ea5ead3cdbca7c0aa\n",
            "Successfully built trackeval\n",
            "Installing collected packages: trackeval\n",
            "Successfully installed trackeval-1.0.dev1\n"
          ]
        }
      ],
      "source": [
        "# install MMCV\n",
        "!pip install mmcv-full -f https://download.openmmlab.com/mmcv/dist/cu111/torch1.10.0/index.html\n",
        "\n",
        "# install MMDetection\n",
        "!pip install mmdet\n",
        "\n",
        "# clone the MMTracking repository\n",
        "!git clone https://github.com/open-mmlab/mmtracking.git\n",
        "%cd mmtracking\n",
        "\n",
        "# install MMTracking and its dependencies\n",
        "!pip install -r requirements/build.txt\n",
        "!pip install -e .\n",
        "# used to MOT evaluation\n",
        "!pip install git+https://github.com/JonathonLuiten/TrackEval.git"
      ]
    },
    {
      "cell_type": "code",
      "execution_count": 3,
      "id": "03a4a583-78e7-40a1-a6ef-d80056989546",
      "metadata": {
        "colab": {
          "base_uri": "https://localhost:8080/"
        },
        "id": "03a4a583-78e7-40a1-a6ef-d80056989546",
        "outputId": "4e355483-0777-4ee6-aef5-99b7a31408fc"
      },
      "outputs": [
        {
          "name": "stderr",
          "output_type": "stream",
          "text": [
            "/usr/local/lib/python3.10/dist-packages/mmcv/__init__.py:20: UserWarning: On January 1, 2023, MMCV will release v2.0.0, in which it will remove components related to the training process and add a data transformation module. In addition, it will rename the package names mmcv to mmcv-lite and mmcv-full to mmcv. See https://github.com/open-mmlab/mmcv/blob/master/docs/en/compatibility.md for more details.\n",
            "  warnings.warn(\n"
          ]
        },
        {
          "data": {
            "text/plain": [
              "{'sys.platform': 'linux',\n",
              " 'Python': '3.10.12 (main, Jun  7 2023, 12:45:35) [GCC 9.4.0]',\n",
              " 'CUDA available': True,\n",
              " 'GPU 0': 'Tesla T4',\n",
              " 'CUDA_HOME': '/usr/local/cuda',\n",
              " 'NVCC': 'Cuda compilation tools, release 11.8, V11.8.89',\n",
              " 'GCC': 'x86_64-linux-gnu-gcc (Ubuntu 9.4.0-1ubuntu1~20.04.1) 9.4.0',\n",
              " 'PyTorch': '2.0.1+cu118',\n",
              " 'PyTorch compiling details': 'PyTorch built with:\\n  - GCC 9.3\\n  - C++ Version: 201703\\n  - Intel(R) oneAPI Math Kernel Library Version 2022.2-Product Build 20220804 for Intel(R) 64 architecture applications\\n  - Intel(R) MKL-DNN v2.7.3 (Git Hash 6dbeffbae1f23cbbeae17adb7b5b13f1f37c080e)\\n  - OpenMP 201511 (a.k.a. OpenMP 4.5)\\n  - LAPACK is enabled (usually provided by MKL)\\n  - NNPACK is enabled\\n  - CPU capability usage: AVX2\\n  - CUDA Runtime 11.8\\n  - NVCC architecture flags: -gencode;arch=compute_37,code=sm_37;-gencode;arch=compute_50,code=sm_50;-gencode;arch=compute_60,code=sm_60;-gencode;arch=compute_70,code=sm_70;-gencode;arch=compute_75,code=sm_75;-gencode;arch=compute_80,code=sm_80;-gencode;arch=compute_86,code=sm_86;-gencode;arch=compute_90,code=sm_90\\n  - CuDNN 8.7\\n  - Magma 2.6.1\\n  - Build settings: BLAS_INFO=mkl, BUILD_TYPE=Release, CUDA_VERSION=11.8, CUDNN_VERSION=8.7.0, CXX_COMPILER=/opt/rh/devtoolset-9/root/usr/bin/c++, CXX_FLAGS= -D_GLIBCXX_USE_CXX11_ABI=0 -fabi-version=11 -Wno-deprecated -fvisibility-inlines-hidden -DUSE_PTHREADPOOL -DNDEBUG -DUSE_KINETO -DLIBKINETO_NOROCTRACER -DUSE_FBGEMM -DUSE_QNNPACK -DUSE_PYTORCH_QNNPACK -DUSE_XNNPACK -DSYMBOLICATE_MOBILE_DEBUG_HANDLE -O2 -fPIC -Wall -Wextra -Werror=return-type -Werror=non-virtual-dtor -Werror=bool-operation -Wnarrowing -Wno-missing-field-initializers -Wno-type-limits -Wno-array-bounds -Wno-unknown-pragmas -Wunused-local-typedefs -Wno-unused-parameter -Wno-unused-function -Wno-unused-result -Wno-strict-overflow -Wno-strict-aliasing -Wno-error=deprecated-declarations -Wno-stringop-overflow -Wno-psabi -Wno-error=pedantic -Wno-error=redundant-decls -Wno-error=old-style-cast -fdiagnostics-color=always -faligned-new -Wno-unused-but-set-variable -Wno-maybe-uninitialized -fno-math-errno -fno-trapping-math -Werror=format -Werror=cast-function-type -Wno-stringop-overflow, LAPACK_INFO=mkl, PERF_WITH_AVX=1, PERF_WITH_AVX2=1, PERF_WITH_AVX512=1, TORCH_DISABLE_GPU_ASSERTS=ON, TORCH_VERSION=2.0.1, USE_CUDA=ON, USE_CUDNN=ON, USE_EXCEPTION_PTR=1, USE_GFLAGS=OFF, USE_GLOG=OFF, USE_MKL=ON, USE_MKLDNN=ON, USE_MPI=OFF, USE_NCCL=1, USE_NNPACK=ON, USE_OPENMP=ON, USE_ROCM=OFF, \\n',\n",
              " 'TorchVision': '0.15.2+cu118',\n",
              " 'OpenCV': '4.7.0',\n",
              " 'MMCV': '1.7.1',\n",
              " 'MMCV Compiler': 'GCC 9.4',\n",
              " 'MMCV CUDA Compiler': '11.8'}"
            ]
          },
          "execution_count": 3,
          "metadata": {},
          "output_type": "execute_result"
        }
      ],
      "source": [
        "from mmcv import collect_env\n",
        "collect_env()"
      ]
    },
    {
      "cell_type": "code",
      "execution_count": 1,
      "id": "HABdsFRsFAf-",
      "metadata": {
        "colab": {
          "base_uri": "https://localhost:8080/"
        },
        "id": "HABdsFRsFAf-",
        "outputId": "a8241a98-a32a-4574-d138-9aab256524b5"
      },
      "outputs": [
        {
          "name": "stdout",
          "output_type": "stream",
          "text": [
            "Looking in indexes: https://pypi.org/simple, https://us-python.pkg.dev/colab-wheels/public/simple/\n",
            "Requirement already satisfied: mmengine in /usr/local/lib/python3.10/dist-packages (0.7.4)\n",
            "Requirement already satisfied: addict in /usr/local/lib/python3.10/dist-packages (from mmengine) (2.4.0)\n",
            "Requirement already satisfied: matplotlib in /usr/local/lib/python3.10/dist-packages (from mmengine) (3.7.1)\n",
            "Requirement already satisfied: numpy in /usr/local/lib/python3.10/dist-packages (from mmengine) (1.22.4)\n",
            "Requirement already satisfied: pyyaml in /usr/local/lib/python3.10/dist-packages (from mmengine) (6.0)\n",
            "Requirement already satisfied: rich in /usr/local/lib/python3.10/dist-packages (from mmengine) (13.3.4)\n",
            "Requirement already satisfied: termcolor in /usr/local/lib/python3.10/dist-packages (from mmengine) (2.3.0)\n",
            "Requirement already satisfied: yapf in /usr/local/lib/python3.10/dist-packages (from mmengine) (0.40.1)\n",
            "Requirement already satisfied: opencv-python>=3 in /usr/local/lib/python3.10/dist-packages (from mmengine) (4.7.0.72)\n",
            "Requirement already satisfied: contourpy>=1.0.1 in /usr/local/lib/python3.10/dist-packages (from matplotlib->mmengine) (1.0.7)\n",
            "Requirement already satisfied: cycler>=0.10 in /usr/local/lib/python3.10/dist-packages (from matplotlib->mmengine) (0.11.0)\n",
            "Requirement already satisfied: fonttools>=4.22.0 in /usr/local/lib/python3.10/dist-packages (from matplotlib->mmengine) (4.39.3)\n",
            "Requirement already satisfied: kiwisolver>=1.0.1 in /usr/local/lib/python3.10/dist-packages (from matplotlib->mmengine) (1.4.4)\n",
            "Requirement already satisfied: packaging>=20.0 in /usr/local/lib/python3.10/dist-packages (from matplotlib->mmengine) (23.1)\n",
            "Requirement already satisfied: pillow>=6.2.0 in /usr/local/lib/python3.10/dist-packages (from matplotlib->mmengine) (8.4.0)\n",
            "Requirement already satisfied: pyparsing>=2.3.1 in /usr/local/lib/python3.10/dist-packages (from matplotlib->mmengine) (3.0.9)\n",
            "Requirement already satisfied: python-dateutil>=2.7 in /usr/local/lib/python3.10/dist-packages (from matplotlib->mmengine) (2.8.2)\n",
            "Requirement already satisfied: markdown-it-py<3.0.0,>=2.2.0 in /usr/local/lib/python3.10/dist-packages (from rich->mmengine) (2.2.0)\n",
            "Requirement already satisfied: pygments<3.0.0,>=2.13.0 in /usr/local/lib/python3.10/dist-packages (from rich->mmengine) (2.14.0)\n",
            "Requirement already satisfied: importlib-metadata>=6.6.0 in /usr/local/lib/python3.10/dist-packages (from yapf->mmengine) (6.7.0)\n",
            "Requirement already satisfied: platformdirs>=3.5.1 in /usr/local/lib/python3.10/dist-packages (from yapf->mmengine) (3.6.0)\n",
            "Requirement already satisfied: tomli>=2.0.1 in /usr/local/lib/python3.10/dist-packages (from yapf->mmengine) (2.0.1)\n",
            "Requirement already satisfied: zipp>=0.5 in /usr/local/lib/python3.10/dist-packages (from importlib-metadata>=6.6.0->yapf->mmengine) (3.15.0)\n",
            "Requirement already satisfied: mdurl~=0.1 in /usr/local/lib/python3.10/dist-packages (from markdown-it-py<3.0.0,>=2.2.0->rich->mmengine) (0.1.2)\n",
            "Requirement already satisfied: six>=1.5 in /usr/local/lib/python3.10/dist-packages (from python-dateutil>=2.7->matplotlib->mmengine) (1.16.0)\n"
          ]
        }
      ],
      "source": [
        "!pip install mmengine"
      ]
    },
    {
      "cell_type": "code",
      "execution_count": 10,
      "id": "ziZQYTB3FJcc",
      "metadata": {
        "colab": {
          "base_uri": "https://localhost:8080/"
        },
        "id": "ziZQYTB3FJcc",
        "outputId": "4cc3091f-689f-48de-d03f-0c860821dc3b"
      },
      "outputs": [
        {
          "name": "stdout",
          "output_type": "stream",
          "text": [
            "Found existing installation: mmdet 3.0.0\n",
            "Uninstalling mmdet-3.0.0:\n",
            "  Would remove:\n",
            "    /usr/local/lib/python3.10/dist-packages/mmdet-3.0.0.dist-info/*\n",
            "    /usr/local/lib/python3.10/dist-packages/mmdet/*\n",
            "Proceed (Y/n)?   Successfully uninstalled mmdet-3.0.0\n"
          ]
        }
      ],
      "source": [
        "!echo y |pip uninstall mmdet"
      ]
    },
    {
      "cell_type": "code",
      "execution_count": 11,
      "id": "epcrBOMiFPYl",
      "metadata": {
        "colab": {
          "base_uri": "https://localhost:8080/"
        },
        "id": "epcrBOMiFPYl",
        "outputId": "9b40a36a-8391-46bf-c822-fe0e65a6f09c"
      },
      "outputs": [
        {
          "name": "stdout",
          "output_type": "stream",
          "text": [
            "Looking in indexes: https://pypi.org/simple, https://us-python.pkg.dev/colab-wheels/public/simple/\n",
            "Collecting mmdet==2.26.0\n",
            "  Downloading mmdet-2.26.0-py3-none-any.whl (1.4 MB)\n",
            "\u001b[2K     \u001b[90m━━━━━━━━━━━━━━━━━━━━━━━━━━━━━━━━━━━━━━━━\u001b[0m \u001b[32m1.4/1.4 MB\u001b[0m \u001b[31m17.9 MB/s\u001b[0m eta \u001b[36m0:00:00\u001b[0m\n",
            "\u001b[?25hRequirement already satisfied: matplotlib in /usr/local/lib/python3.10/dist-packages (from mmdet==2.26.0) (3.7.1)\n",
            "Requirement already satisfied: numpy in /usr/local/lib/python3.10/dist-packages (from mmdet==2.26.0) (1.22.4)\n",
            "Requirement already satisfied: pycocotools in /usr/local/lib/python3.10/dist-packages (from mmdet==2.26.0) (2.0.6)\n",
            "Requirement already satisfied: scipy in /usr/local/lib/python3.10/dist-packages (from mmdet==2.26.0) (1.7.3)\n",
            "Requirement already satisfied: six in /usr/local/lib/python3.10/dist-packages (from mmdet==2.26.0) (1.16.0)\n",
            "Requirement already satisfied: terminaltables in /usr/local/lib/python3.10/dist-packages (from mmdet==2.26.0) (3.1.10)\n",
            "Requirement already satisfied: contourpy>=1.0.1 in /usr/local/lib/python3.10/dist-packages (from matplotlib->mmdet==2.26.0) (1.0.7)\n",
            "Requirement already satisfied: cycler>=0.10 in /usr/local/lib/python3.10/dist-packages (from matplotlib->mmdet==2.26.0) (0.11.0)\n",
            "Requirement already satisfied: fonttools>=4.22.0 in /usr/local/lib/python3.10/dist-packages (from matplotlib->mmdet==2.26.0) (4.39.3)\n",
            "Requirement already satisfied: kiwisolver>=1.0.1 in /usr/local/lib/python3.10/dist-packages (from matplotlib->mmdet==2.26.0) (1.4.4)\n",
            "Requirement already satisfied: packaging>=20.0 in /usr/local/lib/python3.10/dist-packages (from matplotlib->mmdet==2.26.0) (23.1)\n",
            "Requirement already satisfied: pillow>=6.2.0 in /usr/local/lib/python3.10/dist-packages (from matplotlib->mmdet==2.26.0) (8.4.0)\n",
            "Requirement already satisfied: pyparsing>=2.3.1 in /usr/local/lib/python3.10/dist-packages (from matplotlib->mmdet==2.26.0) (3.0.9)\n",
            "Requirement already satisfied: python-dateutil>=2.7 in /usr/local/lib/python3.10/dist-packages (from matplotlib->mmdet==2.26.0) (2.8.2)\n",
            "Installing collected packages: mmdet\n",
            "Successfully installed mmdet-2.26.0\n"
          ]
        }
      ],
      "source": [
        "!pip install mmdet==2.26.0"
      ]
    },
    {
      "cell_type": "code",
      "execution_count": 2,
      "id": "ff6aea79-2ce9-4b1c-b3c4-3f92d1a4e34c",
      "metadata": {
        "colab": {
          "base_uri": "https://localhost:8080/"
        },
        "id": "ff6aea79-2ce9-4b1c-b3c4-3f92d1a4e34c",
        "outputId": "b93dfe75-469a-46be-ef66-d8885195c8b9"
      },
      "outputs": [
        {
          "name": "stdout",
          "output_type": "stream",
          "text": [
            "2.0.1+cu118 True\n",
            "11.8\n",
            "GCC 9.4\n",
            "2.26.0\n",
            "0.14.0\n"
          ]
        },
        {
          "name": "stderr",
          "output_type": "stream",
          "text": [
            "/usr/local/lib/python3.10/dist-packages/mmcv/__init__.py:20: UserWarning: On January 1, 2023, MMCV will release v2.0.0, in which it will remove components related to the training process and add a data transformation module. In addition, it will rename the package names mmcv to mmcv-lite and mmcv-full to mmcv. See https://github.com/open-mmlab/mmcv/blob/master/docs/en/compatibility.md for more details.\n",
            "  warnings.warn(\n"
          ]
        }
      ],
      "source": [
        "# Check Pytorch installation\n",
        "import torch, torchvision\n",
        "print(torch.__version__, torch.cuda.is_available())\n",
        "\n",
        "# Check mmcv installation\n",
        "from mmcv.ops import get_compiling_cuda_version, get_compiler_version\n",
        "print(get_compiling_cuda_version())\n",
        "print(get_compiler_version())\n",
        "\n",
        "# Check MMDetection installation\n",
        "import mmdet\n",
        "print(mmdet.__version__)\n",
        "\n",
        "# Check MMTracking installation\n",
        "import mmtrack\n",
        "print(mmtrack.__version__)"
      ]
    },
    {
      "attachments": {},
      "cell_type": "markdown",
      "id": "4d43b49c-320a-4b0f-baca-fb4bde0630ff",
      "metadata": {
        "id": "4d43b49c-320a-4b0f-baca-fb4bde0630ff",
        "tags": []
      },
      "source": [
        "## **Perform inference**"
      ]
    },
    {
      "cell_type": "code",
      "execution_count": 3,
      "id": "dd7c8466-f057-455f-985a-71e5f22c36e4",
      "metadata": {
        "colab": {
          "base_uri": "https://localhost:8080/"
        },
        "id": "dd7c8466-f057-455f-985a-71e5f22c36e4",
        "outputId": "6a3af330-6675-4c7e-b780-d45ca5f75b9d"
      },
      "outputs": [
        {
          "name": "stdout",
          "output_type": "stream",
          "text": [
            "--2023-06-20 13:55:05--  https://download.openmmlab.com/mmtracking/vid/selsa/selsa_faster_rcnn_r50_dc5_1x_imagenetvid/selsa_faster_rcnn_r50_dc5_1x_imagenetvid_20201227_204835-2f5a4952.pth\n",
            "Resolving download.openmmlab.com (download.openmmlab.com)... 8.48.85.212, 8.48.85.211, 8.48.85.208, ...\n",
            "Connecting to download.openmmlab.com (download.openmmlab.com)|8.48.85.212|:443... connected.\n",
            "HTTP request sent, awaiting response... 200 OK\n",
            "Length: 282801031 (270M) [application/octet-stream]\n",
            "Saving to: ‘./checkpoints/selsa_faster_rcnn_r50_dc5_1x_imagenetvid_20201227_204835-2f5a4952.pth’\n",
            "\n",
            "selsa_faster_rcnn_r 100%[===================>] 269.70M  31.4MB/s    in 8.6s    \n",
            "\n",
            "2023-06-20 13:55:15 (31.2 MB/s) - ‘./checkpoints/selsa_faster_rcnn_r50_dc5_1x_imagenetvid_20201227_204835-2f5a4952.pth’ saved [282801031/282801031]\n",
            "\n",
            "--2023-06-20 13:55:15--  https://download.openmmlab.com/mmtracking/sot/siamese_rpn/siamese_rpn_r50_1x_lasot/siamese_rpn_r50_1x_lasot_20211203_151612-da4b3c66.pth\n",
            "Resolving download.openmmlab.com (download.openmmlab.com)... 8.48.85.212, 8.48.85.211, 8.48.85.208, ...\n",
            "Connecting to download.openmmlab.com (download.openmmlab.com)|8.48.85.212|:443... connected.\n",
            "HTTP request sent, awaiting response... 200 OK\n",
            "Length: 216134418 (206M) [application/octet-stream]\n",
            "Saving to: ‘./checkpoints/siamese_rpn_r50_1x_lasot_20211203_151612-da4b3c66.pth’\n",
            "\n",
            "siamese_rpn_r50_1x_ 100%[===================>] 206.12M  24.4MB/s    in 10s     \n",
            "\n",
            "2023-06-20 13:55:26 (20.6 MB/s) - ‘./checkpoints/siamese_rpn_r50_1x_lasot_20211203_151612-da4b3c66.pth’ saved [216134418/216134418]\n",
            "\n",
            "--2023-06-20 13:55:26--  https://download.openmmlab.com/mmtracking/vis/masktrack_rcnn/masktrack_rcnn_r50_fpn_12e_youtubevis2019/masktrack_rcnn_r50_fpn_12e_youtubevis2019_20211022_194830-6ca6b91e.pth\n",
            "Resolving download.openmmlab.com (download.openmmlab.com)... 8.48.85.212, 8.48.85.211, 8.48.85.208, ...\n",
            "Connecting to download.openmmlab.com (download.openmmlab.com)|8.48.85.212|:443... connected.\n",
            "HTTP request sent, awaiting response... 200 OK\n",
            "Length: 232596799 (222M) [application/octet-stream]\n",
            "Saving to: ‘./checkpoints/masktrack_rcnn_r50_fpn_12e_youtubevis2019_20211022_194830-6ca6b91e.pth’\n",
            "\n",
            "masktrack_rcnn_r50_ 100%[===================>] 221.82M  26.0MB/s    in 8.2s    \n",
            "\n",
            "2023-06-20 13:55:34 (26.9 MB/s) - ‘./checkpoints/masktrack_rcnn_r50_fpn_12e_youtubevis2019_20211022_194830-6ca6b91e.pth’ saved [232596799/232596799]\n",
            "\n"
          ]
        }
      ],
      "source": [
        "# unset the proxy for downloading the pretrained models (optional)\n",
        "!unset https_proxy\n",
        "!unset http_proxy\n",
        "\n",
        "# download checkpoints\n",
        "!mkdir checkpoints\n",
        "!wget -c https://download.openmmlab.com/mmtracking/vid/selsa/selsa_faster_rcnn_r50_dc5_1x_imagenetvid/selsa_faster_rcnn_r50_dc5_1x_imagenetvid_20201227_204835-2f5a4952.pth -P ./checkpoints\n",
        "!wget -c https://download.openmmlab.com/mmtracking/sot/siamese_rpn/siamese_rpn_r50_1x_lasot/siamese_rpn_r50_1x_lasot_20211203_151612-da4b3c66.pth -P ./checkpoints\n",
        "!wget -c https://download.openmmlab.com/mmtracking/vis/masktrack_rcnn/masktrack_rcnn_r50_fpn_12e_youtubevis2019/masktrack_rcnn_r50_fpn_12e_youtubevis2019_20211022_194830-6ca6b91e.pth -P ./checkpoints"
      ]
    },
    {
      "cell_type": "code",
      "execution_count": 6,
      "id": "Y-okdvRmFxmy",
      "metadata": {
        "colab": {
          "base_uri": "https://localhost:8080/"
        },
        "id": "Y-okdvRmFxmy",
        "outputId": "9a7862b5-9605-4c37-ea46-6274a950319b"
      },
      "outputs": [
        {
          "name": "stdout",
          "output_type": "stream",
          "text": [
            "/content/mmtracking\n"
          ]
        }
      ],
      "source": [
        "%cd mmtracking"
      ]
    },
    {
      "cell_type": "code",
      "execution_count": 4,
      "id": "c81d8d3c",
      "metadata": {},
      "outputs": [],
      "source": [
        "input_video = \"C:\\\\Users\\\\A\\\\Documents\\\\RISE\\\\segling\\\\SailingPoseEstimation\\\\PCT\\\\output\\\\output_superres.mp4\"\n"
      ]
    },
    {
      "cell_type": "code",
      "execution_count": 5,
      "id": "420dae4b-4426-405e-97fb-7823943b8ee8",
      "metadata": {
        "colab": {
          "base_uri": "https://localhost:8080/"
        },
        "id": "420dae4b-4426-405e-97fb-7823943b8ee8",
        "outputId": "de225ec5-0494-4250-a5f8-fd4e86329fb4"
      },
      "outputs": [
        {
          "name": "stderr",
          "output_type": "stream",
          "text": [
            "2023-06-27 21:08:00,364 - mmtrack - INFO - initialize FasterRCNN with init_cfg {'type': 'Pretrained', 'checkpoint': 'https://download.openmmlab.com/mmtracking/mot/faster_rcnn/faster-rcnn_r50_fpn_4e_mot17-half-64ee2ed4.pth'}\n",
            "2023-06-27 21:08:00,365 - mmcv - INFO - load model from: https://download.openmmlab.com/mmtracking/mot/faster_rcnn/faster-rcnn_r50_fpn_4e_mot17-half-64ee2ed4.pth\n",
            "2023-06-27 21:08:00,367 - mmcv - INFO - load checkpoint from http path: https://download.openmmlab.com/mmtracking/mot/faster_rcnn/faster-rcnn_r50_fpn_4e_mot17-half-64ee2ed4.pth\n",
            "2023-06-27 21:08:00,596 - mmtrack - INFO - initialize BaseReID with init_cfg {'type': 'Pretrained', 'checkpoint': 'https://download.openmmlab.com/mmtracking/mot/reid/tracktor_reid_r50_iter25245-a452f51f.pth'}\n",
            "2023-06-27 21:08:00,597 - mmcv - INFO - load model from: https://download.openmmlab.com/mmtracking/mot/reid/tracktor_reid_r50_iter25245-a452f51f.pth\n",
            "2023-06-27 21:08:00,597 - mmcv - INFO - load checkpoint from http path: https://download.openmmlab.com/mmtracking/mot/reid/tracktor_reid_r50_iter25245-a452f51f.pth\n",
            "2023-06-27 21:08:00,716 - mmcv - WARNING - The model and loaded state dict do not match exactly\n",
            "\n",
            "missing keys in source state_dict: head.bn.weight, head.bn.bias, head.bn.running_mean, head.bn.running_var, head.classifier.weight, head.classifier.bias\n",
            "\n"
          ]
        },
        {
          "name": "stdout",
          "output_type": "stream",
          "text": [
            "Warning: The model doesn't have classes\n",
            "[>>>>>>>>>>>>>>>>>>>>>>>>>>>>>>] 362/362, 7.6 task/s, elapsed: 48s, ETA:     0s\n",
            " making the output video at ./demo/mot.mp4 with a FPS of 30.0\n",
            "[>>>>>>>>>>>>>>>>>>>>>>>>>>>>>] 362/362, 108.0 task/s, elapsed: 3s, ETA:     0s\n"
          ]
        }
      ],
      "source": [
        "# run mot demo\n",
        "import mmcv\n",
        "import tempfile\n",
        "from mmtrack.apis import inference_mot, init_model\n",
        "mot_config = './mmtracking_configs/mot/deepsort/deepsort_faster-rcnn_fpn_4e_mot17-private-half.py'\n",
        "#input_video = \"C:\\\\Users\\\\A\\\\Documents\\\\RISE\\\\segling\\\\SailingPoseEstimation\\\\PCT\\\\output\\\\out_12_58.mp4\"\n",
        "imgs = mmcv.VideoReader(input_video)\n",
        "# build the model from a config file\n",
        "mot_model = init_model(mot_config, device='cuda:0')\n",
        "prog_bar = mmcv.ProgressBar(len(imgs))\n",
        "out_dir = tempfile.TemporaryDirectory()\n",
        "out_path = out_dir.name\n",
        "# test and show/save the images\n",
        "for i, img in enumerate(imgs):\n",
        "    result = inference_mot(mot_model, img, frame_id=i)\n",
        "    mot_model.show_result(\n",
        "            img,\n",
        "            result,\n",
        "            show=False,\n",
        "            wait_time=int(1000. / imgs.fps),\n",
        "            out_file=f'{out_path}/{i:06d}.jpg')\n",
        "    prog_bar.update()\n",
        "\n",
        "output = './demo/mot.mp4'\n",
        "print(f'\\n making the output video at {output} with a FPS of {imgs.fps}')\n",
        "mmcv.frames2video(out_path, output, fps=imgs.fps, fourcc='mp4v')\n",
        "out_dir.cleanup()"
      ]
    },
    {
      "cell_type": "code",
      "execution_count": 3,
      "id": "d4a97033-b779-4169-84c9-781c58840ae5",
      "metadata": {
        "colab": {
          "base_uri": "https://localhost:8080/"
        },
        "id": "d4a97033-b779-4169-84c9-781c58840ae5",
        "outputId": "1b824eb3-5dea-4a5a-8c9c-8333564dd3ac"
      },
      "outputs": [
        {
          "name": "stderr",
          "output_type": "stream",
          "text": [
            "2023-06-27 13:41:56,844 - mmtrack - INFO - initialize MaskRCNN with init_cfg {'type': 'Pretrained', 'checkpoint': 'https://download.openmmlab.com/mmdetection/v2.0/mask_rcnn/mask_rcnn_r50_fpn_1x_coco/mask_rcnn_r50_fpn_1x_coco_20200205-d4b0c5d6.pth'}\n",
            "2023-06-27 13:41:56,845 - mmcv - INFO - load model from: https://download.openmmlab.com/mmdetection/v2.0/mask_rcnn/mask_rcnn_r50_fpn_1x_coco/mask_rcnn_r50_fpn_1x_coco_20200205-d4b0c5d6.pth\n",
            "2023-06-27 13:41:56,845 - mmcv - INFO - load checkpoint from http path: https://download.openmmlab.com/mmdetection/v2.0/mask_rcnn/mask_rcnn_r50_fpn_1x_coco/mask_rcnn_r50_fpn_1x_coco_20200205-d4b0c5d6.pth\n",
            "2023-06-27 13:41:56,918 - mmcv - WARNING - The model and loaded state dict do not match exactly\n",
            "\n",
            "size mismatch for roi_head.bbox_head.fc_cls.weight: copying a param with shape torch.Size([81, 1024]) from checkpoint, the shape in current model is torch.Size([41, 1024]).\n",
            "size mismatch for roi_head.bbox_head.fc_cls.bias: copying a param with shape torch.Size([81]) from checkpoint, the shape in current model is torch.Size([41]).\n",
            "size mismatch for roi_head.bbox_head.fc_reg.weight: copying a param with shape torch.Size([320, 1024]) from checkpoint, the shape in current model is torch.Size([160, 1024]).\n",
            "size mismatch for roi_head.bbox_head.fc_reg.bias: copying a param with shape torch.Size([320]) from checkpoint, the shape in current model is torch.Size([160]).\n",
            "size mismatch for roi_head.mask_head.conv_logits.weight: copying a param with shape torch.Size([80, 256, 1, 1]) from checkpoint, the shape in current model is torch.Size([40, 256, 1, 1]).\n",
            "size mismatch for roi_head.mask_head.conv_logits.bias: copying a param with shape torch.Size([80]) from checkpoint, the shape in current model is torch.Size([40]).\n"
          ]
        },
        {
          "name": "stdout",
          "output_type": "stream",
          "text": [
            "load checkpoint from local path: ./mmtracking_checkpoints/masktrack_rcnn_r50_fpn_12e_youtubevis2019_20211022_194830-6ca6b91e.pth\n",
            "[>>>>>>>>>>>>>>>>>>>>>>>>>>>>>] 362/362, 3.3 task/s, elapsed: 109s, ETA:     0s\n",
            " making the output video at ./demo/vis.mp4 with a FPS of 30.0\n",
            "[>>>>>>>>>>>>>>>>>>>>>>>>>>>>>] 362/362, 31.3 task/s, elapsed: 12s, ETA:     0s\n"
          ]
        }
      ],
      "source": [
        "# run vis demo\n",
        "from mmtrack.apis import inference_mot\n",
        "vis_config = './mmtracking_configs/vis/masktrack_rcnn/masktrack_rcnn_r50_fpn_12e_youtubevis2019.py'\n",
        "vis_checkpoint = './mmtracking_checkpoints/masktrack_rcnn_r50_fpn_12e_youtubevis2019_20211022_194830-6ca6b91e.pth'\n",
        "# build the model from a config file and a checkpoint file\n",
        "vis_model = init_model(vis_config, vis_checkpoint, device='cuda:0')\n",
        "imgs = mmcv.VideoReader(input_video)\n",
        "prog_bar = mmcv.ProgressBar(len(imgs))\n",
        "out_dir = tempfile.TemporaryDirectory()\n",
        "out_path = out_dir.name\n",
        "for i, img in enumerate(imgs):\n",
        "    result = inference_mot(vis_model, img, frame_id=i)\n",
        "    vis_model.show_result(\n",
        "            img,\n",
        "            result,\n",
        "            wait_time=int(1000. / imgs.fps),\n",
        "            out_file=f'{out_path}/{i:06d}.jpg')\n",
        "    prog_bar.update()\n",
        "output = './demo/vis.mp4'\n",
        "print(f'\\n making the output video at {output} with a FPS of {imgs.fps}')\n",
        "mmcv.frames2video(out_path, output, fps=imgs.fps, fourcc='mp4v')\n",
        "out_dir.cleanup()"
      ]
    },
    {
      "attachments": {},
      "cell_type": "markdown",
      "id": "tFzmoVSWgZeL",
      "metadata": {
        "id": "tFzmoVSWgZeL"
      },
      "source": [
        "test another mot model this to be exact https://github.com/open-mmlab/mmtracking/tree/master/configs/mot/ocsort"
      ]
    },
    {
      "cell_type": "code",
      "execution_count": 59,
      "id": "3xM1w_JYgk46",
      "metadata": {
        "colab": {
          "base_uri": "https://localhost:8080/"
        },
        "id": "3xM1w_JYgk46",
        "outputId": "82bcc409-e8be-4fe9-a8f4-45589995f26c"
      },
      "outputs": [
        {
          "name": "stdout",
          "output_type": "stream",
          "text": [
            "--2023-06-20 15:53:38--  https://download.openmmlab.com/mmtracking/mot/ocsort/mot_dataset/ocsort_yolox_x_crowdhuman_mot17-private-half_20220813_101618-fe150582.pth\n",
            "Resolving download.openmmlab.com (download.openmmlab.com)... 8.48.85.208, 8.48.85.210, 8.48.85.214, ...\n",
            "Connecting to download.openmmlab.com (download.openmmlab.com)|8.48.85.208|:443... connected.\n",
            "HTTP request sent, awaiting response... 200 OK\n",
            "Length: 793160414 (756M) [application/octet-stream]\n",
            "Saving to: ‘./checkpoints/ocsort_yolox_x_crowdhuman_mot17-private-half_20220813_101618-fe150582.pth’\n",
            "\n",
            "ocsort_yolox_x_crow 100%[===================>] 756.42M  22.8MB/s    in 40s     \n",
            "\n",
            "2023-06-20 15:54:25 (19.0 MB/s) - ‘./checkpoints/ocsort_yolox_x_crowdhuman_mot17-private-half_20220813_101618-fe150582.pth’ saved [793160414/793160414]\n",
            "\n"
          ]
        }
      ],
      "source": [
        "!wget -c https://download.openmmlab.com/mmtracking/mot/ocsort/mot_dataset/ocsort_yolox_x_crowdhuman_mot17-private-half_20220813_101618-fe150582.pth -P ./checkpoints"
      ]
    },
    {
      "cell_type": "code",
      "execution_count": 2,
      "id": "qb4PB-ZjgY5F",
      "metadata": {
        "colab": {
          "base_uri": "https://localhost:8080/",
          "height": 1000
        },
        "id": "qb4PB-ZjgY5F",
        "outputId": "c2ee424c-5132-4d61-b583-eb7a7beaf479"
      },
      "outputs": [
        {
          "ename": "NameError",
          "evalue": "name 'init_model' is not defined",
          "output_type": "error",
          "traceback": [
            "\u001b[1;31m---------------------------------------------------------------------------\u001b[0m",
            "\u001b[1;31mNameError\u001b[0m                                 Traceback (most recent call last)",
            "Cell \u001b[1;32mIn[2], line 7\u001b[0m\n\u001b[0;32m      4\u001b[0m input_video \u001b[39m=\u001b[39m \u001b[39m\"\u001b[39m\u001b[39mC:\u001b[39m\u001b[39m\\\\\u001b[39;00m\u001b[39mUsers\u001b[39m\u001b[39m\\\\\u001b[39;00m\u001b[39mA\u001b[39m\u001b[39m\\\\\u001b[39;00m\u001b[39mDocuments\u001b[39m\u001b[39m\\\\\u001b[39;00m\u001b[39mRISE\u001b[39m\u001b[39m\\\\\u001b[39;00m\u001b[39msegling\u001b[39m\u001b[39m\\\\\u001b[39;00m\u001b[39mSailingPoseEstimation\u001b[39m\u001b[39m\\\\\u001b[39;00m\u001b[39mPCT\u001b[39m\u001b[39m\\\\\u001b[39;00m\u001b[39moutput\u001b[39m\u001b[39m\\\\\u001b[39;00m\u001b[39mout_12_58.mp4\u001b[39m\u001b[39m\"\u001b[39m\n\u001b[0;32m      5\u001b[0m \u001b[39m#vis_checkpoint = './checkpoints/ocsort_yolox_x_crowdhuman_mot17-private-half_20220813_101618-fe150582.pth'\u001b[39;00m\n\u001b[0;32m      6\u001b[0m \u001b[39m# build the model from a config file and a checkpoint file\u001b[39;00m\n\u001b[1;32m----> 7\u001b[0m vis_model \u001b[39m=\u001b[39m init_model(vis_config, vis_checkpoint, device\u001b[39m=\u001b[39m\u001b[39m'\u001b[39m\u001b[39mcuda:0\u001b[39m\u001b[39m'\u001b[39m)\n\u001b[0;32m      8\u001b[0m imgs \u001b[39m=\u001b[39m mmcv\u001b[39m.\u001b[39mVideoReader(input_video)\n\u001b[0;32m      9\u001b[0m prog_bar \u001b[39m=\u001b[39m mmcv\u001b[39m.\u001b[39mProgressBar(\u001b[39mlen\u001b[39m(imgs))\n",
            "\u001b[1;31mNameError\u001b[0m: name 'init_model' is not defined"
          ]
        }
      ],
      "source": [
        "# run vis demo\n",
        "from mmtrack.apis import inference_mot\n",
        "vis_config = './configs/mot/ocsort/ocsort_yolox_x_crowdhuman_mot17-private-half.py'\n",
        "input_video = \"C:\\\\Users\\\\A\\\\Documents\\\\RISE\\\\segling\\\\SailingPoseEstimation\\\\PCT\\\\output\\\\out_12_58.mp4\"\n",
        "#vis_checkpoint = './checkpoints/ocsort_yolox_x_crowdhuman_mot17-private-half_20220813_101618-fe150582.pth'\n",
        "# build the model from a config file and a checkpoint file\n",
        "vis_model = init_model(vis_config, vis_checkpoint, device='cuda:0')\n",
        "imgs = mmcv.VideoReader(input_video)\n",
        "prog_bar = mmcv.ProgressBar(len(imgs))\n",
        "out_dir = tempfile.TemporaryDirectory()\n",
        "out_path = out_dir.name\n",
        "for i, img in enumerate(imgs):\n",
        "    result = inference_mot(vis_model, img, frame_id=i)\n",
        "    vis_model.show_result(\n",
        "            img,\n",
        "            result,\n",
        "            wait_time=int(1000. / imgs.fps),\n",
        "            out_file=f'{out_path}/{i:06d}.jpg')\n",
        "    prog_bar.update()\n",
        "output = './demo/vis.mp4'\n",
        "print(f'\\n making the output video at {output} with a FPS of {imgs.fps}')\n",
        "mmcv.frames2video(out_path, output, fps=imgs.fps, fourcc='mp4v')\n",
        "out_dir.cleanup()"
      ]
    },
    {
      "cell_type": "code",
      "execution_count": 67,
      "id": "2fwkIHhEilgv",
      "metadata": {
        "colab": {
          "base_uri": "https://localhost:8080/"
        },
        "id": "2fwkIHhEilgv",
        "outputId": "876ecabe-42c9-48ae-b6f9-0389320c6a0f"
      },
      "outputs": [
        {
          "name": "stdout",
          "output_type": "stream",
          "text": [
            "{'det_bboxes': [array([], shape=(0, 5), dtype=float32)], 'track_bboxes': [array([], shape=(0, 6), dtype=float32)]}\n"
          ]
        }
      ],
      "source": [
        "print(result)"
      ]
    },
    {
      "cell_type": "code",
      "execution_count": 62,
      "id": "abd0863b-933c-42d1-8442-70565d1b4b55",
      "metadata": {
        "colab": {
          "base_uri": "https://localhost:8080/"
        },
        "id": "abd0863b-933c-42d1-8442-70565d1b4b55",
        "outputId": "4cb393dd-53cf-4e2e-bbf1-64604ae790ab"
      },
      "outputs": [
        {
          "name": "stderr",
          "output_type": "stream",
          "text": [
            "2023-06-20 16:02:36,687 - mmcv - INFO - initialize ResNet with init_cfg {'type': 'Pretrained', 'checkpoint': 'torchvision://resnet50'}\n",
            "2023-06-20 16:02:36,688 - mmcv - INFO - load model from: torchvision://resnet50\n",
            "2023-06-20 16:02:36,691 - mmcv - INFO - load checkpoint from torchvision path: torchvision://resnet50\n",
            "2023-06-20 16:02:37,548 - mmcv - WARNING - The model and loaded state dict do not match exactly\n",
            "\n",
            "unexpected key in source state_dict: fc.weight, fc.bias\n",
            "\n",
            "2023-06-20 16:02:37,578 - mmcv - INFO - initialize ChannelMapper with init_cfg {'type': 'Xavier', 'layer': 'Conv2d', 'distribution': 'uniform'}\n",
            "2023-06-20 16:02:37,655 - mmcv - INFO - initialize RPNHead with init_cfg {'type': 'Normal', 'layer': 'Conv2d', 'std': 0.01}\n",
            "2023-06-20 16:02:37,675 - mmcv - INFO - initialize SelsaBBoxHead with init_cfg [{'type': 'Normal', 'std': 0.01, 'override': {'name': 'fc_cls'}}, {'type': 'Normal', 'std': 0.001, 'override': {'name': 'fc_reg'}}, {'type': 'Xavier', 'distribution': 'uniform', 'override': [{'name': 'shared_fcs'}, {'name': 'cls_fcs'}, {'name': 'reg_fcs'}]}]\n",
            "2023-06-20 16:02:37,942 - mmcv - INFO - \n",
            "detector.backbone.conv1.weight - torch.Size([64, 3, 7, 7]): \n",
            "PretrainedInit: load from torchvision://resnet50 \n",
            " \n",
            "2023-06-20 16:02:37,944 - mmcv - INFO - \n",
            "detector.backbone.bn1.weight - torch.Size([64]): \n",
            "PretrainedInit: load from torchvision://resnet50 \n",
            " \n",
            "2023-06-20 16:02:37,947 - mmcv - INFO - \n",
            "detector.backbone.bn1.bias - torch.Size([64]): \n",
            "PretrainedInit: load from torchvision://resnet50 \n",
            " \n",
            "2023-06-20 16:02:37,949 - mmcv - INFO - \n",
            "detector.backbone.layer1.0.conv1.weight - torch.Size([64, 64, 1, 1]): \n",
            "PretrainedInit: load from torchvision://resnet50 \n",
            " \n",
            "2023-06-20 16:02:37,954 - mmcv - INFO - \n",
            "detector.backbone.layer1.0.bn1.weight - torch.Size([64]): \n",
            "PretrainedInit: load from torchvision://resnet50 \n",
            " \n",
            "2023-06-20 16:02:37,955 - mmcv - INFO - \n",
            "detector.backbone.layer1.0.bn1.bias - torch.Size([64]): \n",
            "PretrainedInit: load from torchvision://resnet50 \n",
            " \n",
            "2023-06-20 16:02:37,958 - mmcv - INFO - \n",
            "detector.backbone.layer1.0.conv2.weight - torch.Size([64, 64, 3, 3]): \n",
            "PretrainedInit: load from torchvision://resnet50 \n",
            " \n",
            "2023-06-20 16:02:37,959 - mmcv - INFO - \n",
            "detector.backbone.layer1.0.bn2.weight - torch.Size([64]): \n",
            "PretrainedInit: load from torchvision://resnet50 \n",
            " \n",
            "2023-06-20 16:02:37,961 - mmcv - INFO - \n",
            "detector.backbone.layer1.0.bn2.bias - torch.Size([64]): \n",
            "PretrainedInit: load from torchvision://resnet50 \n",
            " \n",
            "2023-06-20 16:02:37,962 - mmcv - INFO - \n",
            "detector.backbone.layer1.0.conv3.weight - torch.Size([256, 64, 1, 1]): \n",
            "PretrainedInit: load from torchvision://resnet50 \n",
            " \n",
            "2023-06-20 16:02:37,963 - mmcv - INFO - \n",
            "detector.backbone.layer1.0.bn3.weight - torch.Size([256]): \n",
            "PretrainedInit: load from torchvision://resnet50 \n",
            " \n",
            "2023-06-20 16:02:37,965 - mmcv - INFO - \n",
            "detector.backbone.layer1.0.bn3.bias - torch.Size([256]): \n",
            "PretrainedInit: load from torchvision://resnet50 \n",
            " \n",
            "2023-06-20 16:02:37,966 - mmcv - INFO - \n",
            "detector.backbone.layer1.0.downsample.0.weight - torch.Size([256, 64, 1, 1]): \n",
            "PretrainedInit: load from torchvision://resnet50 \n",
            " \n",
            "2023-06-20 16:02:37,967 - mmcv - INFO - \n",
            "detector.backbone.layer1.0.downsample.1.weight - torch.Size([256]): \n",
            "PretrainedInit: load from torchvision://resnet50 \n",
            " \n",
            "2023-06-20 16:02:37,968 - mmcv - INFO - \n",
            "detector.backbone.layer1.0.downsample.1.bias - torch.Size([256]): \n",
            "PretrainedInit: load from torchvision://resnet50 \n",
            " \n",
            "2023-06-20 16:02:37,969 - mmcv - INFO - \n",
            "detector.backbone.layer1.1.conv1.weight - torch.Size([64, 256, 1, 1]): \n",
            "PretrainedInit: load from torchvision://resnet50 \n",
            " \n",
            "2023-06-20 16:02:37,971 - mmcv - INFO - \n",
            "detector.backbone.layer1.1.bn1.weight - torch.Size([64]): \n",
            "PretrainedInit: load from torchvision://resnet50 \n",
            " \n",
            "2023-06-20 16:02:37,972 - mmcv - INFO - \n",
            "detector.backbone.layer1.1.bn1.bias - torch.Size([64]): \n",
            "PretrainedInit: load from torchvision://resnet50 \n",
            " \n",
            "2023-06-20 16:02:37,973 - mmcv - INFO - \n",
            "detector.backbone.layer1.1.conv2.weight - torch.Size([64, 64, 3, 3]): \n",
            "PretrainedInit: load from torchvision://resnet50 \n",
            " \n",
            "2023-06-20 16:02:37,974 - mmcv - INFO - \n",
            "detector.backbone.layer1.1.bn2.weight - torch.Size([64]): \n",
            "PretrainedInit: load from torchvision://resnet50 \n",
            " \n",
            "2023-06-20 16:02:37,976 - mmcv - INFO - \n",
            "detector.backbone.layer1.1.bn2.bias - torch.Size([64]): \n",
            "PretrainedInit: load from torchvision://resnet50 \n",
            " \n",
            "2023-06-20 16:02:37,977 - mmcv - INFO - \n",
            "detector.backbone.layer1.1.conv3.weight - torch.Size([256, 64, 1, 1]): \n",
            "PretrainedInit: load from torchvision://resnet50 \n",
            " \n",
            "2023-06-20 16:02:37,978 - mmcv - INFO - \n",
            "detector.backbone.layer1.1.bn3.weight - torch.Size([256]): \n",
            "PretrainedInit: load from torchvision://resnet50 \n",
            " \n",
            "2023-06-20 16:02:37,979 - mmcv - INFO - \n",
            "detector.backbone.layer1.1.bn3.bias - torch.Size([256]): \n",
            "PretrainedInit: load from torchvision://resnet50 \n",
            " \n",
            "2023-06-20 16:02:37,980 - mmcv - INFO - \n",
            "detector.backbone.layer1.2.conv1.weight - torch.Size([64, 256, 1, 1]): \n",
            "PretrainedInit: load from torchvision://resnet50 \n",
            " \n",
            "2023-06-20 16:02:37,981 - mmcv - INFO - \n",
            "detector.backbone.layer1.2.bn1.weight - torch.Size([64]): \n",
            "PretrainedInit: load from torchvision://resnet50 \n",
            " \n",
            "2023-06-20 16:02:37,983 - mmcv - INFO - \n",
            "detector.backbone.layer1.2.bn1.bias - torch.Size([64]): \n",
            "PretrainedInit: load from torchvision://resnet50 \n",
            " \n",
            "2023-06-20 16:02:37,984 - mmcv - INFO - \n",
            "detector.backbone.layer1.2.conv2.weight - torch.Size([64, 64, 3, 3]): \n",
            "PretrainedInit: load from torchvision://resnet50 \n",
            " \n",
            "2023-06-20 16:02:37,985 - mmcv - INFO - \n",
            "detector.backbone.layer1.2.bn2.weight - torch.Size([64]): \n",
            "PretrainedInit: load from torchvision://resnet50 \n",
            " \n",
            "2023-06-20 16:02:37,986 - mmcv - INFO - \n",
            "detector.backbone.layer1.2.bn2.bias - torch.Size([64]): \n",
            "PretrainedInit: load from torchvision://resnet50 \n",
            " \n",
            "2023-06-20 16:02:37,988 - mmcv - INFO - \n",
            "detector.backbone.layer1.2.conv3.weight - torch.Size([256, 64, 1, 1]): \n",
            "PretrainedInit: load from torchvision://resnet50 \n",
            " \n",
            "2023-06-20 16:02:37,989 - mmcv - INFO - \n",
            "detector.backbone.layer1.2.bn3.weight - torch.Size([256]): \n",
            "PretrainedInit: load from torchvision://resnet50 \n",
            " \n",
            "2023-06-20 16:02:37,990 - mmcv - INFO - \n",
            "detector.backbone.layer1.2.bn3.bias - torch.Size([256]): \n",
            "PretrainedInit: load from torchvision://resnet50 \n",
            " \n",
            "2023-06-20 16:02:37,991 - mmcv - INFO - \n",
            "detector.backbone.layer2.0.conv1.weight - torch.Size([128, 256, 1, 1]): \n",
            "PretrainedInit: load from torchvision://resnet50 \n",
            " \n",
            "2023-06-20 16:02:37,992 - mmcv - INFO - \n",
            "detector.backbone.layer2.0.bn1.weight - torch.Size([128]): \n",
            "PretrainedInit: load from torchvision://resnet50 \n",
            " \n",
            "2023-06-20 16:02:37,994 - mmcv - INFO - \n",
            "detector.backbone.layer2.0.bn1.bias - torch.Size([128]): \n",
            "PretrainedInit: load from torchvision://resnet50 \n",
            " \n",
            "2023-06-20 16:02:37,995 - mmcv - INFO - \n",
            "detector.backbone.layer2.0.conv2.weight - torch.Size([128, 128, 3, 3]): \n",
            "PretrainedInit: load from torchvision://resnet50 \n",
            " \n",
            "2023-06-20 16:02:37,996 - mmcv - INFO - \n",
            "detector.backbone.layer2.0.bn2.weight - torch.Size([128]): \n",
            "PretrainedInit: load from torchvision://resnet50 \n",
            " \n",
            "2023-06-20 16:02:37,997 - mmcv - INFO - \n",
            "detector.backbone.layer2.0.bn2.bias - torch.Size([128]): \n",
            "PretrainedInit: load from torchvision://resnet50 \n",
            " \n",
            "2023-06-20 16:02:37,998 - mmcv - INFO - \n",
            "detector.backbone.layer2.0.conv3.weight - torch.Size([512, 128, 1, 1]): \n",
            "PretrainedInit: load from torchvision://resnet50 \n",
            " \n",
            "2023-06-20 16:02:38,000 - mmcv - INFO - \n",
            "detector.backbone.layer2.0.bn3.weight - torch.Size([512]): \n",
            "PretrainedInit: load from torchvision://resnet50 \n",
            " \n",
            "2023-06-20 16:02:38,001 - mmcv - INFO - \n",
            "detector.backbone.layer2.0.bn3.bias - torch.Size([512]): \n",
            "PretrainedInit: load from torchvision://resnet50 \n",
            " \n",
            "2023-06-20 16:02:38,002 - mmcv - INFO - \n",
            "detector.backbone.layer2.0.downsample.0.weight - torch.Size([512, 256, 1, 1]): \n",
            "PretrainedInit: load from torchvision://resnet50 \n",
            " \n",
            "2023-06-20 16:02:38,003 - mmcv - INFO - \n",
            "detector.backbone.layer2.0.downsample.1.weight - torch.Size([512]): \n",
            "PretrainedInit: load from torchvision://resnet50 \n",
            " \n",
            "2023-06-20 16:02:38,004 - mmcv - INFO - \n",
            "detector.backbone.layer2.0.downsample.1.bias - torch.Size([512]): \n",
            "PretrainedInit: load from torchvision://resnet50 \n",
            " \n",
            "2023-06-20 16:02:38,006 - mmcv - INFO - \n",
            "detector.backbone.layer2.1.conv1.weight - torch.Size([128, 512, 1, 1]): \n",
            "PretrainedInit: load from torchvision://resnet50 \n",
            " \n",
            "2023-06-20 16:02:38,007 - mmcv - INFO - \n",
            "detector.backbone.layer2.1.bn1.weight - torch.Size([128]): \n",
            "PretrainedInit: load from torchvision://resnet50 \n",
            " \n",
            "2023-06-20 16:02:38,008 - mmcv - INFO - \n",
            "detector.backbone.layer2.1.bn1.bias - torch.Size([128]): \n",
            "PretrainedInit: load from torchvision://resnet50 \n",
            " \n",
            "2023-06-20 16:02:38,009 - mmcv - INFO - \n",
            "detector.backbone.layer2.1.conv2.weight - torch.Size([128, 128, 3, 3]): \n",
            "PretrainedInit: load from torchvision://resnet50 \n",
            " \n",
            "2023-06-20 16:02:38,011 - mmcv - INFO - \n",
            "detector.backbone.layer2.1.bn2.weight - torch.Size([128]): \n",
            "PretrainedInit: load from torchvision://resnet50 \n",
            " \n",
            "2023-06-20 16:02:38,012 - mmcv - INFO - \n",
            "detector.backbone.layer2.1.bn2.bias - torch.Size([128]): \n",
            "PretrainedInit: load from torchvision://resnet50 \n",
            " \n",
            "2023-06-20 16:02:38,013 - mmcv - INFO - \n",
            "detector.backbone.layer2.1.conv3.weight - torch.Size([512, 128, 1, 1]): \n",
            "PretrainedInit: load from torchvision://resnet50 \n",
            " \n",
            "2023-06-20 16:02:38,014 - mmcv - INFO - \n",
            "detector.backbone.layer2.1.bn3.weight - torch.Size([512]): \n",
            "PretrainedInit: load from torchvision://resnet50 \n",
            " \n",
            "2023-06-20 16:02:38,015 - mmcv - INFO - \n",
            "detector.backbone.layer2.1.bn3.bias - torch.Size([512]): \n",
            "PretrainedInit: load from torchvision://resnet50 \n",
            " \n",
            "2023-06-20 16:02:38,017 - mmcv - INFO - \n",
            "detector.backbone.layer2.2.conv1.weight - torch.Size([128, 512, 1, 1]): \n",
            "PretrainedInit: load from torchvision://resnet50 \n",
            " \n",
            "2023-06-20 16:02:38,018 - mmcv - INFO - \n",
            "detector.backbone.layer2.2.bn1.weight - torch.Size([128]): \n",
            "PretrainedInit: load from torchvision://resnet50 \n",
            " \n",
            "2023-06-20 16:02:38,019 - mmcv - INFO - \n",
            "detector.backbone.layer2.2.bn1.bias - torch.Size([128]): \n",
            "PretrainedInit: load from torchvision://resnet50 \n",
            " \n",
            "2023-06-20 16:02:38,020 - mmcv - INFO - \n",
            "detector.backbone.layer2.2.conv2.weight - torch.Size([128, 128, 3, 3]): \n",
            "PretrainedInit: load from torchvision://resnet50 \n",
            " \n",
            "2023-06-20 16:02:38,021 - mmcv - INFO - \n",
            "detector.backbone.layer2.2.bn2.weight - torch.Size([128]): \n",
            "PretrainedInit: load from torchvision://resnet50 \n",
            " \n",
            "2023-06-20 16:02:38,023 - mmcv - INFO - \n",
            "detector.backbone.layer2.2.bn2.bias - torch.Size([128]): \n",
            "PretrainedInit: load from torchvision://resnet50 \n",
            " \n",
            "2023-06-20 16:02:38,024 - mmcv - INFO - \n",
            "detector.backbone.layer2.2.conv3.weight - torch.Size([512, 128, 1, 1]): \n",
            "PretrainedInit: load from torchvision://resnet50 \n",
            " \n",
            "2023-06-20 16:02:38,025 - mmcv - INFO - \n",
            "detector.backbone.layer2.2.bn3.weight - torch.Size([512]): \n",
            "PretrainedInit: load from torchvision://resnet50 \n",
            " \n",
            "2023-06-20 16:02:38,026 - mmcv - INFO - \n",
            "detector.backbone.layer2.2.bn3.bias - torch.Size([512]): \n",
            "PretrainedInit: load from torchvision://resnet50 \n",
            " \n",
            "2023-06-20 16:02:38,028 - mmcv - INFO - \n",
            "detector.backbone.layer2.3.conv1.weight - torch.Size([128, 512, 1, 1]): \n",
            "PretrainedInit: load from torchvision://resnet50 \n",
            " \n",
            "2023-06-20 16:02:38,029 - mmcv - INFO - \n",
            "detector.backbone.layer2.3.bn1.weight - torch.Size([128]): \n",
            "PretrainedInit: load from torchvision://resnet50 \n",
            " \n",
            "2023-06-20 16:02:38,030 - mmcv - INFO - \n",
            "detector.backbone.layer2.3.bn1.bias - torch.Size([128]): \n",
            "PretrainedInit: load from torchvision://resnet50 \n",
            " \n",
            "2023-06-20 16:02:38,031 - mmcv - INFO - \n",
            "detector.backbone.layer2.3.conv2.weight - torch.Size([128, 128, 3, 3]): \n",
            "PretrainedInit: load from torchvision://resnet50 \n",
            " \n",
            "2023-06-20 16:02:38,032 - mmcv - INFO - \n",
            "detector.backbone.layer2.3.bn2.weight - torch.Size([128]): \n",
            "PretrainedInit: load from torchvision://resnet50 \n",
            " \n",
            "2023-06-20 16:02:38,034 - mmcv - INFO - \n",
            "detector.backbone.layer2.3.bn2.bias - torch.Size([128]): \n",
            "PretrainedInit: load from torchvision://resnet50 \n",
            " \n",
            "2023-06-20 16:02:38,035 - mmcv - INFO - \n",
            "detector.backbone.layer2.3.conv3.weight - torch.Size([512, 128, 1, 1]): \n",
            "PretrainedInit: load from torchvision://resnet50 \n",
            " \n",
            "2023-06-20 16:02:38,036 - mmcv - INFO - \n",
            "detector.backbone.layer2.3.bn3.weight - torch.Size([512]): \n",
            "PretrainedInit: load from torchvision://resnet50 \n",
            " \n",
            "2023-06-20 16:02:38,037 - mmcv - INFO - \n",
            "detector.backbone.layer2.3.bn3.bias - torch.Size([512]): \n",
            "PretrainedInit: load from torchvision://resnet50 \n",
            " \n",
            "2023-06-20 16:02:38,038 - mmcv - INFO - \n",
            "detector.backbone.layer3.0.conv1.weight - torch.Size([256, 512, 1, 1]): \n",
            "PretrainedInit: load from torchvision://resnet50 \n",
            " \n",
            "2023-06-20 16:02:38,039 - mmcv - INFO - \n",
            "detector.backbone.layer3.0.bn1.weight - torch.Size([256]): \n",
            "PretrainedInit: load from torchvision://resnet50 \n",
            " \n",
            "2023-06-20 16:02:38,040 - mmcv - INFO - \n",
            "detector.backbone.layer3.0.bn1.bias - torch.Size([256]): \n",
            "PretrainedInit: load from torchvision://resnet50 \n",
            " \n",
            "2023-06-20 16:02:38,042 - mmcv - INFO - \n",
            "detector.backbone.layer3.0.conv2.weight - torch.Size([256, 256, 3, 3]): \n",
            "PretrainedInit: load from torchvision://resnet50 \n",
            " \n",
            "2023-06-20 16:02:38,043 - mmcv - INFO - \n",
            "detector.backbone.layer3.0.bn2.weight - torch.Size([256]): \n",
            "PretrainedInit: load from torchvision://resnet50 \n",
            " \n",
            "2023-06-20 16:02:38,044 - mmcv - INFO - \n",
            "detector.backbone.layer3.0.bn2.bias - torch.Size([256]): \n",
            "PretrainedInit: load from torchvision://resnet50 \n",
            " \n",
            "2023-06-20 16:02:38,045 - mmcv - INFO - \n",
            "detector.backbone.layer3.0.conv3.weight - torch.Size([1024, 256, 1, 1]): \n",
            "PretrainedInit: load from torchvision://resnet50 \n",
            " \n",
            "2023-06-20 16:02:38,046 - mmcv - INFO - \n",
            "detector.backbone.layer3.0.bn3.weight - torch.Size([1024]): \n",
            "PretrainedInit: load from torchvision://resnet50 \n",
            " \n",
            "2023-06-20 16:02:38,047 - mmcv - INFO - \n",
            "detector.backbone.layer3.0.bn3.bias - torch.Size([1024]): \n",
            "PretrainedInit: load from torchvision://resnet50 \n",
            " \n",
            "2023-06-20 16:02:38,048 - mmcv - INFO - \n",
            "detector.backbone.layer3.0.downsample.0.weight - torch.Size([1024, 512, 1, 1]): \n",
            "PretrainedInit: load from torchvision://resnet50 \n",
            " \n",
            "2023-06-20 16:02:38,050 - mmcv - INFO - \n",
            "detector.backbone.layer3.0.downsample.1.weight - torch.Size([1024]): \n",
            "PretrainedInit: load from torchvision://resnet50 \n",
            " \n",
            "2023-06-20 16:02:38,051 - mmcv - INFO - \n",
            "detector.backbone.layer3.0.downsample.1.bias - torch.Size([1024]): \n",
            "PretrainedInit: load from torchvision://resnet50 \n",
            " \n",
            "2023-06-20 16:02:38,052 - mmcv - INFO - \n",
            "detector.backbone.layer3.1.conv1.weight - torch.Size([256, 1024, 1, 1]): \n",
            "PretrainedInit: load from torchvision://resnet50 \n",
            " \n",
            "2023-06-20 16:02:38,053 - mmcv - INFO - \n",
            "detector.backbone.layer3.1.bn1.weight - torch.Size([256]): \n",
            "PretrainedInit: load from torchvision://resnet50 \n",
            " \n",
            "2023-06-20 16:02:38,054 - mmcv - INFO - \n",
            "detector.backbone.layer3.1.bn1.bias - torch.Size([256]): \n",
            "PretrainedInit: load from torchvision://resnet50 \n",
            " \n",
            "2023-06-20 16:02:38,055 - mmcv - INFO - \n",
            "detector.backbone.layer3.1.conv2.weight - torch.Size([256, 256, 3, 3]): \n",
            "PretrainedInit: load from torchvision://resnet50 \n",
            " \n",
            "2023-06-20 16:02:38,057 - mmcv - INFO - \n",
            "detector.backbone.layer3.1.bn2.weight - torch.Size([256]): \n",
            "PretrainedInit: load from torchvision://resnet50 \n",
            " \n",
            "2023-06-20 16:02:38,058 - mmcv - INFO - \n",
            "detector.backbone.layer3.1.bn2.bias - torch.Size([256]): \n",
            "PretrainedInit: load from torchvision://resnet50 \n",
            " \n",
            "2023-06-20 16:02:38,059 - mmcv - INFO - \n",
            "detector.backbone.layer3.1.conv3.weight - torch.Size([1024, 256, 1, 1]): \n",
            "PretrainedInit: load from torchvision://resnet50 \n",
            " \n",
            "2023-06-20 16:02:38,060 - mmcv - INFO - \n",
            "detector.backbone.layer3.1.bn3.weight - torch.Size([1024]): \n",
            "PretrainedInit: load from torchvision://resnet50 \n",
            " \n",
            "2023-06-20 16:02:38,061 - mmcv - INFO - \n",
            "detector.backbone.layer3.1.bn3.bias - torch.Size([1024]): \n",
            "PretrainedInit: load from torchvision://resnet50 \n",
            " \n",
            "2023-06-20 16:02:38,062 - mmcv - INFO - \n",
            "detector.backbone.layer3.2.conv1.weight - torch.Size([256, 1024, 1, 1]): \n",
            "PretrainedInit: load from torchvision://resnet50 \n",
            " \n",
            "2023-06-20 16:02:38,063 - mmcv - INFO - \n",
            "detector.backbone.layer3.2.bn1.weight - torch.Size([256]): \n",
            "PretrainedInit: load from torchvision://resnet50 \n",
            " \n",
            "2023-06-20 16:02:38,065 - mmcv - INFO - \n",
            "detector.backbone.layer3.2.bn1.bias - torch.Size([256]): \n",
            "PretrainedInit: load from torchvision://resnet50 \n",
            " \n",
            "2023-06-20 16:02:38,066 - mmcv - INFO - \n",
            "detector.backbone.layer3.2.conv2.weight - torch.Size([256, 256, 3, 3]): \n",
            "PretrainedInit: load from torchvision://resnet50 \n",
            " \n",
            "2023-06-20 16:02:38,067 - mmcv - INFO - \n",
            "detector.backbone.layer3.2.bn2.weight - torch.Size([256]): \n",
            "PretrainedInit: load from torchvision://resnet50 \n",
            " \n",
            "2023-06-20 16:02:38,068 - mmcv - INFO - \n",
            "detector.backbone.layer3.2.bn2.bias - torch.Size([256]): \n",
            "PretrainedInit: load from torchvision://resnet50 \n",
            " \n",
            "2023-06-20 16:02:38,069 - mmcv - INFO - \n",
            "detector.backbone.layer3.2.conv3.weight - torch.Size([1024, 256, 1, 1]): \n",
            "PretrainedInit: load from torchvision://resnet50 \n",
            " \n",
            "2023-06-20 16:02:38,070 - mmcv - INFO - \n",
            "detector.backbone.layer3.2.bn3.weight - torch.Size([1024]): \n",
            "PretrainedInit: load from torchvision://resnet50 \n",
            " \n",
            "2023-06-20 16:02:38,072 - mmcv - INFO - \n",
            "detector.backbone.layer3.2.bn3.bias - torch.Size([1024]): \n",
            "PretrainedInit: load from torchvision://resnet50 \n",
            " \n",
            "2023-06-20 16:02:38,072 - mmcv - INFO - \n",
            "detector.backbone.layer3.3.conv1.weight - torch.Size([256, 1024, 1, 1]): \n",
            "PretrainedInit: load from torchvision://resnet50 \n",
            " \n",
            "2023-06-20 16:02:38,074 - mmcv - INFO - \n",
            "detector.backbone.layer3.3.bn1.weight - torch.Size([256]): \n",
            "PretrainedInit: load from torchvision://resnet50 \n",
            " \n",
            "2023-06-20 16:02:38,075 - mmcv - INFO - \n",
            "detector.backbone.layer3.3.bn1.bias - torch.Size([256]): \n",
            "PretrainedInit: load from torchvision://resnet50 \n",
            " \n",
            "2023-06-20 16:02:38,076 - mmcv - INFO - \n",
            "detector.backbone.layer3.3.conv2.weight - torch.Size([256, 256, 3, 3]): \n",
            "PretrainedInit: load from torchvision://resnet50 \n",
            " \n",
            "2023-06-20 16:02:38,077 - mmcv - INFO - \n",
            "detector.backbone.layer3.3.bn2.weight - torch.Size([256]): \n",
            "PretrainedInit: load from torchvision://resnet50 \n",
            " \n",
            "2023-06-20 16:02:38,078 - mmcv - INFO - \n",
            "detector.backbone.layer3.3.bn2.bias - torch.Size([256]): \n",
            "PretrainedInit: load from torchvision://resnet50 \n",
            " \n",
            "2023-06-20 16:02:38,079 - mmcv - INFO - \n",
            "detector.backbone.layer3.3.conv3.weight - torch.Size([1024, 256, 1, 1]): \n",
            "PretrainedInit: load from torchvision://resnet50 \n",
            " \n",
            "2023-06-20 16:02:38,080 - mmcv - INFO - \n",
            "detector.backbone.layer3.3.bn3.weight - torch.Size([1024]): \n",
            "PretrainedInit: load from torchvision://resnet50 \n",
            " \n",
            "2023-06-20 16:02:38,082 - mmcv - INFO - \n",
            "detector.backbone.layer3.3.bn3.bias - torch.Size([1024]): \n",
            "PretrainedInit: load from torchvision://resnet50 \n",
            " \n",
            "2023-06-20 16:02:38,083 - mmcv - INFO - \n",
            "detector.backbone.layer3.4.conv1.weight - torch.Size([256, 1024, 1, 1]): \n",
            "PretrainedInit: load from torchvision://resnet50 \n",
            " \n",
            "2023-06-20 16:02:38,084 - mmcv - INFO - \n",
            "detector.backbone.layer3.4.bn1.weight - torch.Size([256]): \n",
            "PretrainedInit: load from torchvision://resnet50 \n",
            " \n",
            "2023-06-20 16:02:38,085 - mmcv - INFO - \n",
            "detector.backbone.layer3.4.bn1.bias - torch.Size([256]): \n",
            "PretrainedInit: load from torchvision://resnet50 \n",
            " \n",
            "2023-06-20 16:02:38,086 - mmcv - INFO - \n",
            "detector.backbone.layer3.4.conv2.weight - torch.Size([256, 256, 3, 3]): \n",
            "PretrainedInit: load from torchvision://resnet50 \n",
            " \n",
            "2023-06-20 16:02:38,087 - mmcv - INFO - \n",
            "detector.backbone.layer3.4.bn2.weight - torch.Size([256]): \n",
            "PretrainedInit: load from torchvision://resnet50 \n",
            " \n",
            "2023-06-20 16:02:38,089 - mmcv - INFO - \n",
            "detector.backbone.layer3.4.bn2.bias - torch.Size([256]): \n",
            "PretrainedInit: load from torchvision://resnet50 \n",
            " \n",
            "2023-06-20 16:02:38,090 - mmcv - INFO - \n",
            "detector.backbone.layer3.4.conv3.weight - torch.Size([1024, 256, 1, 1]): \n",
            "PretrainedInit: load from torchvision://resnet50 \n",
            " \n",
            "2023-06-20 16:02:38,091 - mmcv - INFO - \n",
            "detector.backbone.layer3.4.bn3.weight - torch.Size([1024]): \n",
            "PretrainedInit: load from torchvision://resnet50 \n",
            " \n",
            "2023-06-20 16:02:38,092 - mmcv - INFO - \n",
            "detector.backbone.layer3.4.bn3.bias - torch.Size([1024]): \n",
            "PretrainedInit: load from torchvision://resnet50 \n",
            " \n",
            "2023-06-20 16:02:38,093 - mmcv - INFO - \n",
            "detector.backbone.layer3.5.conv1.weight - torch.Size([256, 1024, 1, 1]): \n",
            "PretrainedInit: load from torchvision://resnet50 \n",
            " \n",
            "2023-06-20 16:02:38,094 - mmcv - INFO - \n",
            "detector.backbone.layer3.5.bn1.weight - torch.Size([256]): \n",
            "PretrainedInit: load from torchvision://resnet50 \n",
            " \n",
            "2023-06-20 16:02:38,096 - mmcv - INFO - \n",
            "detector.backbone.layer3.5.bn1.bias - torch.Size([256]): \n",
            "PretrainedInit: load from torchvision://resnet50 \n",
            " \n",
            "2023-06-20 16:02:38,097 - mmcv - INFO - \n",
            "detector.backbone.layer3.5.conv2.weight - torch.Size([256, 256, 3, 3]): \n",
            "PretrainedInit: load from torchvision://resnet50 \n",
            " \n",
            "2023-06-20 16:02:38,098 - mmcv - INFO - \n",
            "detector.backbone.layer3.5.bn2.weight - torch.Size([256]): \n",
            "PretrainedInit: load from torchvision://resnet50 \n",
            " \n",
            "2023-06-20 16:02:38,099 - mmcv - INFO - \n",
            "detector.backbone.layer3.5.bn2.bias - torch.Size([256]): \n",
            "PretrainedInit: load from torchvision://resnet50 \n",
            " \n",
            "2023-06-20 16:02:38,100 - mmcv - INFO - \n",
            "detector.backbone.layer3.5.conv3.weight - torch.Size([1024, 256, 1, 1]): \n",
            "PretrainedInit: load from torchvision://resnet50 \n",
            " \n",
            "2023-06-20 16:02:38,101 - mmcv - INFO - \n",
            "detector.backbone.layer3.5.bn3.weight - torch.Size([1024]): \n",
            "PretrainedInit: load from torchvision://resnet50 \n",
            " \n",
            "2023-06-20 16:02:38,102 - mmcv - INFO - \n",
            "detector.backbone.layer3.5.bn3.bias - torch.Size([1024]): \n",
            "PretrainedInit: load from torchvision://resnet50 \n",
            " \n",
            "2023-06-20 16:02:38,104 - mmcv - INFO - \n",
            "detector.backbone.layer4.0.conv1.weight - torch.Size([512, 1024, 1, 1]): \n",
            "PretrainedInit: load from torchvision://resnet50 \n",
            " \n",
            "2023-06-20 16:02:38,105 - mmcv - INFO - \n",
            "detector.backbone.layer4.0.bn1.weight - torch.Size([512]): \n",
            "PretrainedInit: load from torchvision://resnet50 \n",
            " \n",
            "2023-06-20 16:02:38,106 - mmcv - INFO - \n",
            "detector.backbone.layer4.0.bn1.bias - torch.Size([512]): \n",
            "PretrainedInit: load from torchvision://resnet50 \n",
            " \n",
            "2023-06-20 16:02:38,107 - mmcv - INFO - \n",
            "detector.backbone.layer4.0.conv2.weight - torch.Size([512, 512, 3, 3]): \n",
            "PretrainedInit: load from torchvision://resnet50 \n",
            " \n",
            "2023-06-20 16:02:38,108 - mmcv - INFO - \n",
            "detector.backbone.layer4.0.bn2.weight - torch.Size([512]): \n",
            "PretrainedInit: load from torchvision://resnet50 \n",
            " \n",
            "2023-06-20 16:02:38,109 - mmcv - INFO - \n",
            "detector.backbone.layer4.0.bn2.bias - torch.Size([512]): \n",
            "PretrainedInit: load from torchvision://resnet50 \n",
            " \n",
            "2023-06-20 16:02:38,110 - mmcv - INFO - \n",
            "detector.backbone.layer4.0.conv3.weight - torch.Size([2048, 512, 1, 1]): \n",
            "PretrainedInit: load from torchvision://resnet50 \n",
            " \n",
            "2023-06-20 16:02:38,111 - mmcv - INFO - \n",
            "detector.backbone.layer4.0.bn3.weight - torch.Size([2048]): \n",
            "PretrainedInit: load from torchvision://resnet50 \n",
            " \n",
            "2023-06-20 16:02:38,112 - mmcv - INFO - \n",
            "detector.backbone.layer4.0.bn3.bias - torch.Size([2048]): \n",
            "PretrainedInit: load from torchvision://resnet50 \n",
            " \n",
            "2023-06-20 16:02:38,114 - mmcv - INFO - \n",
            "detector.backbone.layer4.0.downsample.0.weight - torch.Size([2048, 1024, 1, 1]): \n",
            "PretrainedInit: load from torchvision://resnet50 \n",
            " \n",
            "2023-06-20 16:02:38,115 - mmcv - INFO - \n",
            "detector.backbone.layer4.0.downsample.1.weight - torch.Size([2048]): \n",
            "PretrainedInit: load from torchvision://resnet50 \n",
            " \n",
            "2023-06-20 16:02:38,116 - mmcv - INFO - \n",
            "detector.backbone.layer4.0.downsample.1.bias - torch.Size([2048]): \n",
            "PretrainedInit: load from torchvision://resnet50 \n",
            " \n",
            "2023-06-20 16:02:38,117 - mmcv - INFO - \n",
            "detector.backbone.layer4.1.conv1.weight - torch.Size([512, 2048, 1, 1]): \n",
            "PretrainedInit: load from torchvision://resnet50 \n",
            " \n",
            "2023-06-20 16:02:38,118 - mmcv - INFO - \n",
            "detector.backbone.layer4.1.bn1.weight - torch.Size([512]): \n",
            "PretrainedInit: load from torchvision://resnet50 \n",
            " \n",
            "2023-06-20 16:02:38,120 - mmcv - INFO - \n",
            "detector.backbone.layer4.1.bn1.bias - torch.Size([512]): \n",
            "PretrainedInit: load from torchvision://resnet50 \n",
            " \n",
            "2023-06-20 16:02:38,121 - mmcv - INFO - \n",
            "detector.backbone.layer4.1.conv2.weight - torch.Size([512, 512, 3, 3]): \n",
            "PretrainedInit: load from torchvision://resnet50 \n",
            " \n",
            "2023-06-20 16:02:38,123 - mmcv - INFO - \n",
            "detector.backbone.layer4.1.bn2.weight - torch.Size([512]): \n",
            "PretrainedInit: load from torchvision://resnet50 \n",
            " \n",
            "2023-06-20 16:02:38,124 - mmcv - INFO - \n",
            "detector.backbone.layer4.1.bn2.bias - torch.Size([512]): \n",
            "PretrainedInit: load from torchvision://resnet50 \n",
            " \n",
            "2023-06-20 16:02:38,125 - mmcv - INFO - \n",
            "detector.backbone.layer4.1.conv3.weight - torch.Size([2048, 512, 1, 1]): \n",
            "PretrainedInit: load from torchvision://resnet50 \n",
            " \n",
            "2023-06-20 16:02:38,126 - mmcv - INFO - \n",
            "detector.backbone.layer4.1.bn3.weight - torch.Size([2048]): \n",
            "PretrainedInit: load from torchvision://resnet50 \n",
            " \n",
            "2023-06-20 16:02:38,127 - mmcv - INFO - \n",
            "detector.backbone.layer4.1.bn3.bias - torch.Size([2048]): \n",
            "PretrainedInit: load from torchvision://resnet50 \n",
            " \n",
            "2023-06-20 16:02:38,128 - mmcv - INFO - \n",
            "detector.backbone.layer4.2.conv1.weight - torch.Size([512, 2048, 1, 1]): \n",
            "PretrainedInit: load from torchvision://resnet50 \n",
            " \n",
            "2023-06-20 16:02:38,129 - mmcv - INFO - \n",
            "detector.backbone.layer4.2.bn1.weight - torch.Size([512]): \n",
            "PretrainedInit: load from torchvision://resnet50 \n",
            " \n",
            "2023-06-20 16:02:38,130 - mmcv - INFO - \n",
            "detector.backbone.layer4.2.bn1.bias - torch.Size([512]): \n",
            "PretrainedInit: load from torchvision://resnet50 \n",
            " \n",
            "2023-06-20 16:02:38,131 - mmcv - INFO - \n",
            "detector.backbone.layer4.2.conv2.weight - torch.Size([512, 512, 3, 3]): \n",
            "PretrainedInit: load from torchvision://resnet50 \n",
            " \n",
            "2023-06-20 16:02:38,132 - mmcv - INFO - \n",
            "detector.backbone.layer4.2.bn2.weight - torch.Size([512]): \n",
            "PretrainedInit: load from torchvision://resnet50 \n",
            " \n",
            "2023-06-20 16:02:38,134 - mmcv - INFO - \n",
            "detector.backbone.layer4.2.bn2.bias - torch.Size([512]): \n",
            "PretrainedInit: load from torchvision://resnet50 \n",
            " \n",
            "2023-06-20 16:02:38,134 - mmcv - INFO - \n",
            "detector.backbone.layer4.2.conv3.weight - torch.Size([2048, 512, 1, 1]): \n",
            "PretrainedInit: load from torchvision://resnet50 \n",
            " \n",
            "2023-06-20 16:02:38,136 - mmcv - INFO - \n",
            "detector.backbone.layer4.2.bn3.weight - torch.Size([2048]): \n",
            "PretrainedInit: load from torchvision://resnet50 \n",
            " \n",
            "2023-06-20 16:02:38,137 - mmcv - INFO - \n",
            "detector.backbone.layer4.2.bn3.bias - torch.Size([2048]): \n",
            "PretrainedInit: load from torchvision://resnet50 \n",
            " \n",
            "2023-06-20 16:02:38,138 - mmcv - INFO - \n",
            "detector.neck.convs.0.conv.weight - torch.Size([512, 2048, 3, 3]): \n",
            "XavierInit: gain=1, distribution=uniform, bias=0 \n",
            " \n",
            "2023-06-20 16:02:38,139 - mmcv - INFO - \n",
            "detector.neck.convs.0.conv.bias - torch.Size([512]): \n",
            "The value is the same before and after calling `init_weights` of SELSA  \n",
            " \n",
            "2023-06-20 16:02:38,140 - mmcv - INFO - \n",
            "detector.rpn_head.rpn_conv.weight - torch.Size([512, 512, 3, 3]): \n",
            "NormalInit: mean=0, std=0.01, bias=0 \n",
            " \n",
            "2023-06-20 16:02:38,141 - mmcv - INFO - \n",
            "detector.rpn_head.rpn_conv.bias - torch.Size([512]): \n",
            "NormalInit: mean=0, std=0.01, bias=0 \n",
            " \n",
            "2023-06-20 16:02:38,143 - mmcv - INFO - \n",
            "detector.rpn_head.rpn_cls.weight - torch.Size([12, 512, 1, 1]): \n",
            "NormalInit: mean=0, std=0.01, bias=0 \n",
            " \n",
            "2023-06-20 16:02:38,144 - mmcv - INFO - \n",
            "detector.rpn_head.rpn_cls.bias - torch.Size([12]): \n",
            "NormalInit: mean=0, std=0.01, bias=0 \n",
            " \n",
            "2023-06-20 16:02:38,145 - mmcv - INFO - \n",
            "detector.rpn_head.rpn_reg.weight - torch.Size([48, 512, 1, 1]): \n",
            "NormalInit: mean=0, std=0.01, bias=0 \n",
            " \n",
            "2023-06-20 16:02:38,146 - mmcv - INFO - \n",
            "detector.rpn_head.rpn_reg.bias - torch.Size([48]): \n",
            "NormalInit: mean=0, std=0.01, bias=0 \n",
            " \n",
            "2023-06-20 16:02:38,147 - mmcv - INFO - \n",
            "detector.roi_head.bbox_head.fc_cls.weight - torch.Size([31, 1024]): \n",
            "NormalInit: mean=0, std=0.01, bias=0 \n",
            " \n",
            "2023-06-20 16:02:38,148 - mmcv - INFO - \n",
            "detector.roi_head.bbox_head.fc_cls.bias - torch.Size([31]): \n",
            "NormalInit: mean=0, std=0.01, bias=0 \n",
            " \n",
            "2023-06-20 16:02:38,149 - mmcv - INFO - \n",
            "detector.roi_head.bbox_head.fc_reg.weight - torch.Size([120, 1024]): \n",
            "NormalInit: mean=0, std=0.001, bias=0 \n",
            " \n",
            "2023-06-20 16:02:38,150 - mmcv - INFO - \n",
            "detector.roi_head.bbox_head.fc_reg.bias - torch.Size([120]): \n",
            "NormalInit: mean=0, std=0.001, bias=0 \n",
            " \n",
            "2023-06-20 16:02:38,152 - mmcv - INFO - \n",
            "detector.roi_head.bbox_head.shared_fcs.0.weight - torch.Size([1024, 25088]): \n",
            "XavierInit: gain=1, distribution=uniform, bias=0 \n",
            " \n",
            "2023-06-20 16:02:38,153 - mmcv - INFO - \n",
            "detector.roi_head.bbox_head.shared_fcs.0.bias - torch.Size([1024]): \n",
            "XavierInit: gain=1, distribution=uniform, bias=0 \n",
            " \n",
            "2023-06-20 16:02:38,154 - mmcv - INFO - \n",
            "detector.roi_head.bbox_head.shared_fcs.1.weight - torch.Size([1024, 1024]): \n",
            "XavierInit: gain=1, distribution=uniform, bias=0 \n",
            " \n",
            "2023-06-20 16:02:38,155 - mmcv - INFO - \n",
            "detector.roi_head.bbox_head.shared_fcs.1.bias - torch.Size([1024]): \n",
            "XavierInit: gain=1, distribution=uniform, bias=0 \n",
            " \n",
            "2023-06-20 16:02:38,156 - mmcv - INFO - \n",
            "detector.roi_head.bbox_head.aggregator.0.fc_embed.weight - torch.Size([1024, 1024]): \n",
            "The value is the same before and after calling `init_weights` of SELSA  \n",
            " \n",
            "2023-06-20 16:02:38,157 - mmcv - INFO - \n",
            "detector.roi_head.bbox_head.aggregator.0.fc_embed.bias - torch.Size([1024]): \n",
            "The value is the same before and after calling `init_weights` of SELSA  \n",
            " \n",
            "2023-06-20 16:02:38,159 - mmcv - INFO - \n",
            "detector.roi_head.bbox_head.aggregator.0.ref_fc_embed.weight - torch.Size([1024, 1024]): \n",
            "The value is the same before and after calling `init_weights` of SELSA  \n",
            " \n",
            "2023-06-20 16:02:38,160 - mmcv - INFO - \n",
            "detector.roi_head.bbox_head.aggregator.0.ref_fc_embed.bias - torch.Size([1024]): \n",
            "The value is the same before and after calling `init_weights` of SELSA  \n",
            " \n",
            "2023-06-20 16:02:38,161 - mmcv - INFO - \n",
            "detector.roi_head.bbox_head.aggregator.0.fc.weight - torch.Size([1024, 1024]): \n",
            "The value is the same before and after calling `init_weights` of SELSA  \n",
            " \n",
            "2023-06-20 16:02:38,162 - mmcv - INFO - \n",
            "detector.roi_head.bbox_head.aggregator.0.fc.bias - torch.Size([1024]): \n",
            "The value is the same before and after calling `init_weights` of SELSA  \n",
            " \n",
            "2023-06-20 16:02:38,163 - mmcv - INFO - \n",
            "detector.roi_head.bbox_head.aggregator.0.ref_fc.weight - torch.Size([1024, 1024]): \n",
            "The value is the same before and after calling `init_weights` of SELSA  \n",
            " \n",
            "2023-06-20 16:02:38,164 - mmcv - INFO - \n",
            "detector.roi_head.bbox_head.aggregator.0.ref_fc.bias - torch.Size([1024]): \n",
            "The value is the same before and after calling `init_weights` of SELSA  \n",
            " \n",
            "2023-06-20 16:02:38,165 - mmcv - INFO - \n",
            "detector.roi_head.bbox_head.aggregator.1.fc_embed.weight - torch.Size([1024, 1024]): \n",
            "The value is the same before and after calling `init_weights` of SELSA  \n",
            " \n",
            "2023-06-20 16:02:38,167 - mmcv - INFO - \n",
            "detector.roi_head.bbox_head.aggregator.1.fc_embed.bias - torch.Size([1024]): \n",
            "The value is the same before and after calling `init_weights` of SELSA  \n",
            " \n",
            "2023-06-20 16:02:38,168 - mmcv - INFO - \n",
            "detector.roi_head.bbox_head.aggregator.1.ref_fc_embed.weight - torch.Size([1024, 1024]): \n",
            "The value is the same before and after calling `init_weights` of SELSA  \n",
            " \n",
            "2023-06-20 16:02:38,169 - mmcv - INFO - \n",
            "detector.roi_head.bbox_head.aggregator.1.ref_fc_embed.bias - torch.Size([1024]): \n",
            "The value is the same before and after calling `init_weights` of SELSA  \n",
            " \n",
            "2023-06-20 16:02:38,170 - mmcv - INFO - \n",
            "detector.roi_head.bbox_head.aggregator.1.fc.weight - torch.Size([1024, 1024]): \n",
            "The value is the same before and after calling `init_weights` of SELSA  \n",
            " \n",
            "2023-06-20 16:02:38,171 - mmcv - INFO - \n",
            "detector.roi_head.bbox_head.aggregator.1.fc.bias - torch.Size([1024]): \n",
            "The value is the same before and after calling `init_weights` of SELSA  \n",
            " \n",
            "2023-06-20 16:02:38,172 - mmcv - INFO - \n",
            "detector.roi_head.bbox_head.aggregator.1.ref_fc.weight - torch.Size([1024, 1024]): \n",
            "The value is the same before and after calling `init_weights` of SELSA  \n",
            " \n",
            "2023-06-20 16:02:38,174 - mmcv - INFO - \n",
            "detector.roi_head.bbox_head.aggregator.1.ref_fc.bias - torch.Size([1024]): \n",
            "The value is the same before and after calling `init_weights` of SELSA  \n",
            " \n"
          ]
        },
        {
          "name": "stdout",
          "output_type": "stream",
          "text": [
            "Warning: The model doesn't have classes\n",
            "[                                                  ] 0/362, elapsed: 0s, ETA:"
          ]
        },
        {
          "name": "stderr",
          "output_type": "stream",
          "text": [
            "/content/mmtracking/mmtrack/datasets/pipelines/formatting.py:137: UserWarning: The 'ConcatVideoReferences' class will be deprecated in the future, please use 'ConcatSameTypeFrames' instead\n",
            "  warnings.warn(\n"
          ]
        },
        {
          "name": "stdout",
          "output_type": "stream",
          "text": [
            "[>>>>>>>>>>>>>>>>>>>>>>>>>>>>>] 362/362, 3.5 task/s, elapsed: 105s, ETA:     0s\n",
            " making the output video at ./demo/vid.mp4 with a FPS of 30.0\n",
            "[>>>>>>>>>>>>>>>>>>>>>>>>>>>>>] 362/362, 20.0 task/s, elapsed: 18s, ETA:     0s\n"
          ]
        }
      ],
      "source": [
        "# run vid demo\n",
        "from mmtrack.apis import inference_vid\n",
        "vid_config = './configs/vid/selsa/selsa_faster_rcnn_r50_dc5_1x_imagenetvid.py'\n",
        "vid_checkpoint = './checkpoints/selsa_faster_rcnn_r50_dc5_1x_imagenetvid_20201227_204835-2f5a4952.pth'\n",
        "# build the model from a config file and a checkpoint file\n",
        "vid_model = init_model(vid_config, device='cuda:0')\n",
        "imgs = mmcv.VideoReader(input_video)\n",
        "prog_bar = mmcv.ProgressBar(len(imgs))\n",
        "out_dir = tempfile.TemporaryDirectory()\n",
        "out_path = out_dir.name\n",
        "for i, img in enumerate(imgs):\n",
        "    result = inference_vid(vid_model, img, frame_id=i)\n",
        "    vid_model.show_result(\n",
        "            img,\n",
        "            result,\n",
        "            wait_time=int(1000. / imgs.fps),\n",
        "            out_file=f'{out_path}/{i:06d}.jpg')\n",
        "    prog_bar.update()\n",
        "output = './demo/vid.mp4'\n",
        "print(f'\\n making the output video at {output} with a FPS of {imgs.fps}')\n",
        "mmcv.frames2video(out_path, output, fps=imgs.fps, fourcc='mp4v')\n",
        "out_dir.cleanup()"
      ]
    },
    {
      "attachments": {},
      "cell_type": "markdown",
      "id": "Pk9iefvQMHpC",
      "metadata": {
        "id": "Pk9iefvQMHpC"
      },
      "source": [
        "show the pixels of the initial image to get an idea of a good bbox"
      ]
    },
    {
      "cell_type": "code",
      "execution_count": 2,
      "id": "l50JY-hIMLLi",
      "metadata": {
        "colab": {
          "base_uri": "https://localhost:8080/",
          "height": 345
        },
        "id": "l50JY-hIMLLi",
        "outputId": "4a768478-6829-45f3-d260-4d79e4bf172e"
      },
      "outputs": [
        {
          "ename": "error",
          "evalue": "OpenCV(4.7.0) D:\\a\\opencv-python\\opencv-python\\opencv\\modules\\imgproc\\src\\color.cpp:182: error: (-215:Assertion failed) !_src.empty() in function 'cv::cvtColor'\n",
          "output_type": "error",
          "traceback": [
            "\u001b[1;31m---------------------------------------------------------------------------\u001b[0m",
            "\u001b[1;31merror\u001b[0m                                     Traceback (most recent call last)",
            "Cell \u001b[1;32mIn[2], line 19\u001b[0m\n\u001b[0;32m     16\u001b[0m ret, frame \u001b[39m=\u001b[39m video\u001b[39m.\u001b[39mread()\n\u001b[0;32m     18\u001b[0m \u001b[39m# Convert to RGB for matplotlib\u001b[39;00m\n\u001b[1;32m---> 19\u001b[0m frame \u001b[39m=\u001b[39m cv2\u001b[39m.\u001b[39;49mcvtColor(frame, cv2\u001b[39m.\u001b[39;49mCOLOR_BGR2RGB)\n\u001b[0;32m     21\u001b[0m \u001b[39m# Prepare figure\u001b[39;00m\n\u001b[0;32m     22\u001b[0m fig,ax \u001b[39m=\u001b[39m plt\u001b[39m.\u001b[39msubplots(\u001b[39m1\u001b[39m)\n",
            "\u001b[1;31merror\u001b[0m: OpenCV(4.7.0) D:\\a\\opencv-python\\opencv-python\\opencv\\modules\\imgproc\\src\\color.cpp:182: error: (-215:Assertion failed) !_src.empty() in function 'cv::cvtColor'\n"
          ]
        }
      ],
      "source": [
        "import cv2\n",
        "import matplotlib.pyplot as plt\n",
        "from matplotlib.patches import Rectangle\n",
        "#from ipywidgets import widgets\n",
        "from IPython.display import display\n",
        "#from google.colab.patches import cv2_imshow\n",
        "#           x1     y1       x2    y2\n",
        "init_bbox = [1000, 850, 1200, 950]\n",
        "input_video = \"/content/drive/My Drive/Sailing Project RISE/470Hiking.mov\"\n",
        "\n",
        "\n",
        "# Load the video\n",
        "video = cv2.VideoCapture(input_video)\n",
        "\n",
        "# Get the first frame of the video\n",
        "ret, frame = video.read()\n",
        "\n",
        "# Convert to RGB for matplotlib\n",
        "frame = cv2.cvtColor(frame, cv2.COLOR_BGR2RGB)\n",
        "\n",
        "# Prepare figure\n",
        "fig,ax = plt.subplots(1)\n",
        "\n",
        "# Display the image\n",
        "ax.imshow(frame)\n",
        "\n",
        "rectangle = Rectangle((init_bbox[0],init_bbox[1]),(init_bbox[2]-init_bbox[0]),(init_bbox[3]-init_bbox[1]),linewidth=1,edgecolor='r',facecolor='none')\n",
        "\n",
        "# Draw the rectangle on the image\n",
        "ax.add_patch(rectangle)\n",
        "\n",
        "# Show the figure\n",
        "plt.show()\n",
        "\n",
        "video.release()\n"
      ]
    },
    {
      "cell_type": "code",
      "execution_count": 17,
      "id": "9nDZ44IyJcT-",
      "metadata": {
        "colab": {
          "base_uri": "https://localhost:8080/"
        },
        "id": "9nDZ44IyJcT-",
        "outputId": "9bd89329-a30d-47c1-bafc-08f9df7c0a68"
      },
      "outputs": [
        {
          "name": "stdout",
          "output_type": "stream",
          "text": [
            "Mounted at /content/drive\n"
          ]
        }
      ],
      "source": [
        "from google.colab import drive\n",
        "drive.mount('/content/drive')"
      ]
    },
    {
      "cell_type": "code",
      "execution_count": 54,
      "id": "0189f86a-b216-4f63-a58a-97e40e326869",
      "metadata": {
        "colab": {
          "base_uri": "https://localhost:8080/"
        },
        "id": "0189f86a-b216-4f63-a58a-97e40e326869",
        "outputId": "920c17f3-6845-4308-ef7e-a44394c8c540"
      },
      "outputs": [
        {
          "name": "stderr",
          "output_type": "stream",
          "text": [
            "2023-06-20 15:06:45,668 - mmcv - INFO - initialize SOTResNet with init_cfg {'type': 'Pretrained', 'checkpoint': 'https://download.openmmlab.com/mmtracking/pretrained_weights/sot_resnet50.model'}\n",
            "2023-06-20 15:06:45,669 - mmcv - INFO - load model from: https://download.openmmlab.com/mmtracking/pretrained_weights/sot_resnet50.model\n",
            "2023-06-20 15:06:45,671 - mmcv - INFO - load checkpoint from http path: https://download.openmmlab.com/mmtracking/pretrained_weights/sot_resnet50.model\n"
          ]
        },
        {
          "name": "stdout",
          "output_type": "stream",
          "text": [
            "load checkpoint from local path: ./checkpoints/siamese_rpn_r50_1x_lasot_20211203_151612-da4b3c66.pth\n",
            "Warning: The model doesn't have classes\n",
            "[>>>>>>>>>>>>>>>>>>>>>>>>>>>>>>] 362/362, 7.0 task/s, elapsed: 52s, ETA:     0s\n",
            " making the output video at ./demo/sot.mp4 with a FPS of 30.0\n",
            "[>>>>>>>>>>>>>>>>>>>>>>>>>>>>>] 362/362, 20.6 task/s, elapsed: 18s, ETA:     0s\n"
          ]
        }
      ],
      "source": [
        "# run sot demo\n",
        "#input_video = \"./demo/demo.mp4\"\n",
        "from mmtrack.apis import inference_sot\n",
        "sot_config = './configs/sot/siamese_rpn/siamese_rpn_r50_20e_lasot.py'\n",
        "sot_checkpoint = './checkpoints/siamese_rpn_r50_1x_lasot_20211203_151612-da4b3c66.pth'\n",
        "# build the model from a config file and a checkpoint file\n",
        "sot_model = init_model(sot_config, sot_checkpoint, device='cuda:0')\n",
        "#xstart ystart xend yend?\n",
        "\n",
        "imgs = mmcv.VideoReader(input_video)\n",
        "prog_bar = mmcv.ProgressBar(len(imgs))\n",
        "out_dir = tempfile.TemporaryDirectory()\n",
        "out_path = out_dir.name\n",
        "result_lst = []\n",
        "for i, img in enumerate(imgs):\n",
        "    result = inference_sot(sot_model, img, init_bbox, frame_id=i)\n",
        "    sot_model.show_result(\n",
        "            img,\n",
        "            result,\n",
        "            wait_time=int(1000. / imgs.fps),\n",
        "            out_file=f'{out_path}/{i:06d}.jpg')\n",
        "    prog_bar.update()\n",
        "    result_lst.append(result)\n",
        "output = './demo/sot.mp4'\n",
        "print(f'\\n making the output video at {output} with a FPS of {imgs.fps}')\n",
        "mmcv.frames2video(out_path, output, fps=imgs.fps, fourcc='mp4v')\n",
        "out_dir.cleanup()"
      ]
    },
    {
      "cell_type": "code",
      "execution_count": 55,
      "id": "jzY4FbJ5RVO5",
      "metadata": {
        "id": "jzY4FbJ5RVO5"
      },
      "outputs": [],
      "source": [
        "#rename the key to bbox which is what PCT expects\n",
        "#my_dict[new_key] = my_dict.pop(old_key)\n",
        "for elem in result_lst:\n",
        "  elem[\"bbox\"] = elem.pop(\"track_bboxes\")"
      ]
    },
    {
      "cell_type": "code",
      "execution_count": 56,
      "id": "ouvrZjTlUcHV",
      "metadata": {
        "id": "ouvrZjTlUcHV"
      },
      "outputs": [],
      "source": [
        "import pickle\n",
        "#save it\n",
        "with open('bbox_data.pkl', 'wb') as f:\n",
        "    pickle.dump(result_lst, f)"
      ]
    },
    {
      "cell_type": "code",
      "execution_count": 53,
      "id": "PmzKAGz-VBKe",
      "metadata": {
        "colab": {
          "base_uri": "https://localhost:8080/"
        },
        "id": "PmzKAGz-VBKe",
        "outputId": "8670f283-0d02-4748-bd94-ece2fb336532"
      },
      "outputs": [
        {
          "name": "stdout",
          "output_type": "stream",
          "text": [
            "bbox_data.pkl  \u001b[0m\u001b[01;34mdemo\u001b[0m/    MANIFEST.in        README.md         \u001b[01;34mresources\u001b[0m/  \u001b[01;34mtools\u001b[0m/\n",
            "\u001b[01;34mcheckpoints\u001b[0m/   \u001b[01;34mdocker\u001b[0m/  \u001b[01;34mmmtrack\u001b[0m/           README_zh-CN.md   setup.cfg\n",
            "CITATION.cff   \u001b[01;34mdocs\u001b[0m/    \u001b[01;34mmmtrack.egg-info\u001b[0m/  \u001b[01;34mrequirements\u001b[0m/     setup.py\n",
            "\u001b[01;34mconfigs\u001b[0m/       LICENSE  model-index.yml    requirements.txt  \u001b[01;34mtests\u001b[0m/\n"
          ]
        }
      ],
      "source": [
        "%ls"
      ]
    },
    {
      "cell_type": "code",
      "execution_count": 49,
      "id": "Zc1aAhCvTauo",
      "metadata": {
        "colab": {
          "base_uri": "https://localhost:8080/"
        },
        "id": "Zc1aAhCvTauo",
        "outputId": "dd1633f7-0883-4ea7-d09e-6ef9bb014247"
      },
      "outputs": [
        {
          "data": {
            "text/plain": [
              "[{'bbox': array([ 1.0e+03,  8.5e+02,  1.2e+03,  9.5e+02, -1.0e+00])},\n",
              " {'bbox': array([1.0271478e+03, 9.6511182e+02, 1.2080155e+03, 1.0756798e+03,\n",
              "         7.5049007e-01], dtype=float32)},\n",
              " {'bbox': array([1.0351007e+03, 9.6719269e+02, 1.2007518e+03, 1.0839666e+03,\n",
              "         7.7524298e-01], dtype=float32)},\n",
              " {'bbox': array([1.0434723e+03, 9.6608301e+02, 1.1958673e+03, 1.0867939e+03,\n",
              "         8.6803019e-01], dtype=float32)},\n",
              " {'bbox': array([1.0507362e+03, 9.6809216e+02, 1.1923378e+03, 1.0901093e+03,\n",
              "         8.5903949e-01], dtype=float32)},\n",
              " {'bbox': array([1.0571786e+03, 9.6732220e+02, 1.1910656e+03, 1.0893555e+03,\n",
              "         8.2386965e-01], dtype=float32)},\n",
              " {'bbox': array([1.0937324e+03, 9.6312518e+02, 1.2125964e+03, 1.0908329e+03,\n",
              "         8.8567710e-01], dtype=float32)},\n",
              " {'bbox': array([1.0996210e+03, 9.6147852e+02, 1.2075958e+03, 1.0911323e+03,\n",
              "         8.9694411e-01], dtype=float32)}]"
            ]
          },
          "execution_count": 49,
          "metadata": {},
          "output_type": "execute_result"
        }
      ],
      "source": [
        "result_lst"
      ]
    },
    {
      "attachments": {},
      "cell_type": "markdown",
      "id": "500ff07b-9664-4429-9e3f-e97dd4fa1c29",
      "metadata": {
        "id": "500ff07b-9664-4429-9e3f-e97dd4fa1c29",
        "tags": []
      },
      "source": [
        "## **Train a MOT model with a toy dataset**"
      ]
    },
    {
      "attachments": {},
      "cell_type": "markdown",
      "id": "e7bd4f44-447a-49a5-8c9c-cf160691bda5",
      "metadata": {
        "id": "e7bd4f44-447a-49a5-8c9c-cf160691bda5",
        "tags": []
      },
      "source": [
        "### **Prepare dataset**"
      ]
    },
    {
      "cell_type": "code",
      "execution_count": null,
      "id": "a91a55bd-14be-46bf-aa18-5e30d9abe5b7",
      "metadata": {
        "id": "a91a55bd-14be-46bf-aa18-5e30d9abe5b7"
      },
      "outputs": [],
      "source": [
        "!mkdir data\n",
        "!wget https://download.openmmlab.com/mmtracking/data/MOT17_tiny.zip -P ./data\n",
        "!unzip -q ./data/MOT17_tiny.zip -d ./data"
      ]
    },
    {
      "cell_type": "code",
      "execution_count": null,
      "id": "d0db0d5f-b192-48ee-b145-149f33ad3685",
      "metadata": {
        "id": "d0db0d5f-b192-48ee-b145-149f33ad3685"
      },
      "outputs": [],
      "source": [
        "# convert the dataset to coco format\n",
        "!python ./tools/convert_datasets/mot/mot2coco.py -i ./data/MOT17_tiny/ -o ./data/MOT17_tiny/annotations --split-train --convert-det\n",
        "# crop pedestrian patches from the original dataset for training reid model. It may take a few minutes.\n",
        "!rm -rf ./data/MOT17_tiny/reid\n",
        "!python ./tools/convert_datasets/mot/mot2reid.py -i ./data/MOT17_tiny/ -o ./data/MOT17_tiny/reid --val-split 0.9 --vis-threshold 0.8"
      ]
    },
    {
      "attachments": {},
      "cell_type": "markdown",
      "id": "ae887970-7382-4bd0-a739-6b07e6dded6f",
      "metadata": {
        "id": "ae887970-7382-4bd0-a739-6b07e6dded6f",
        "tags": []
      },
      "source": [
        "### **Train a detector for MOT**"
      ]
    },
    {
      "cell_type": "code",
      "execution_count": null,
      "id": "bce04095-8586-45c5-a556-40c51d08b2cb",
      "metadata": {
        "id": "bce04095-8586-45c5-a556-40c51d08b2cb"
      },
      "outputs": [],
      "source": [
        "import mmcv\n",
        "from mmdet.apis import set_random_seed\n",
        "cfg = mmcv.Config.fromfile('./configs/det/faster-rcnn_r50_fpn_4e_mot17-half.py')\n",
        "cfg.data_root = 'data/MOT17_tiny/'\n",
        "cfg.data.test.ann_file = cfg.data.test.ann_file.replace('data/MOT17/','data/MOT17_tiny/')\n",
        "cfg.data.train.ann_file = cfg.data.train.ann_file.replace('data/MOT17/','data/MOT17_tiny/')\n",
        "cfg.data.val.ann_file = cfg.data.val.ann_file.replace('data/MOT17/','data/MOT17_tiny/')\n",
        "\n",
        "cfg.data.test.img_prefix = cfg.data.test.img_prefix.replace('data/MOT17/','data/MOT17_tiny/')\n",
        "cfg.data.train.img_prefix = cfg.data.train.img_prefix.replace('data/MOT17/','data/MOT17_tiny/')\n",
        "cfg.data.val.img_prefix = cfg.data.val.img_prefix.replace('data/MOT17/','data/MOT17_tiny/')\n",
        "\n",
        "cfg.work_dir = './tutorial_exps/detector'\n",
        "cfg.seed = 0\n",
        "set_random_seed(0, deterministic=False)\n",
        "cfg.gpu_ids = range(1)\n",
        "print(f'Config:\\n{cfg.pretty_text}')"
      ]
    },
    {
      "cell_type": "code",
      "execution_count": null,
      "id": "889b4255-50be-4da3-85c4-dcd19c8111ac",
      "metadata": {
        "id": "889b4255-50be-4da3-85c4-dcd19c8111ac"
      },
      "outputs": [],
      "source": [
        "import os.path as osp\n",
        "\n",
        "from mmtrack.datasets import build_dataset\n",
        "from mmdet.apis import train_detector as train_model\n",
        "from mmdet.models import build_detector as build_model\n",
        "\n",
        "mmcv.mkdir_or_exist(osp.abspath(cfg.work_dir))\n",
        "model = build_model(cfg.model.detector)\n",
        "model.init_weights()\n",
        "datasets = [build_dataset(cfg.data.train)]\n",
        "model.CLASSES = datasets[0].CLASSES\n",
        "train_model(model, datasets, cfg)"
      ]
    },
    {
      "attachments": {},
      "cell_type": "markdown",
      "id": "7f747c1f-7944-49f2-b9fc-a51dc3f85857",
      "metadata": {
        "id": "7f747c1f-7944-49f2-b9fc-a51dc3f85857",
        "tags": []
      },
      "source": [
        "### **Train a ReID model for MOT**"
      ]
    },
    {
      "cell_type": "code",
      "execution_count": null,
      "id": "6705deeb-a9d7-42e2-9d52-b51b7b588d1f",
      "metadata": {
        "id": "6705deeb-a9d7-42e2-9d52-b51b7b588d1f"
      },
      "outputs": [],
      "source": [
        "import mmcv\n",
        "from mmdet.apis import set_random_seed\n",
        "cfg = mmcv.Config.fromfile('./configs/reid/resnet50_b32x8_MOT17.py')\n",
        "cfg.data_root = 'data/MOT17_tiny/'\n",
        "cfg.data.test.ann_file = cfg.data.test.ann_file.replace('data/MOT17/','data/MOT17_tiny/')\n",
        "cfg.data.train.ann_file = 'data/MOT17_tiny/reid/meta/train_9.txt'\n",
        "cfg.data.val.ann_file = cfg.data.val.ann_file.replace('data/MOT17/','data/MOT17_tiny/')\n",
        "\n",
        "cfg.data.test.data_prefix = cfg.data.test.data_prefix.replace('data/MOT17/','data/MOT17_tiny/')\n",
        "cfg.data.train.data_prefix = cfg.data.train.data_prefix.replace('data/MOT17/','data/MOT17_tiny/')\n",
        "cfg.data.val.data_prefix = cfg.data.val.data_prefix.replace('data/MOT17/','data/MOT17_tiny/')\n",
        "\n",
        "# learning policy\n",
        "cfg.lr_config = dict(\n",
        "    policy='step',\n",
        "    warmup='linear',\n",
        "    warmup_iters=200,\n",
        "    warmup_ratio=1.0 / 200,\n",
        "    step=[1])\n",
        "cfg.total_epochs = 2\n",
        "\n",
        "cfg.work_dir = './tutorial_exps/reid'\n",
        "cfg.seed = 0\n",
        "set_random_seed(0, deterministic=False)\n",
        "cfg.gpu_ids = range(1)\n",
        "print(f'Config:\\n{cfg.pretty_text}')"
      ]
    },
    {
      "cell_type": "code",
      "execution_count": null,
      "id": "12f2b54e-7e5f-4d95-9e27-528115717e03",
      "metadata": {
        "id": "12f2b54e-7e5f-4d95-9e27-528115717e03"
      },
      "outputs": [],
      "source": [
        "from mmtrack.datasets import build_dataset\n",
        "from mmdet.apis import train_detector as train_model\n",
        "from mmtrack.models import build_reid as build_model\n",
        "\n",
        "\n",
        "model = build_model(cfg.model.reid)\n",
        "model.init_weights()\n",
        "datasets = [build_dataset(cfg.data.train)]\n",
        "model.CLASSES = datasets[0].CLASSES\n",
        "\n",
        "train_model(model, datasets, cfg)"
      ]
    },
    {
      "attachments": {},
      "cell_type": "markdown",
      "id": "e5ac4b40-7023-498a-9ddf-bc06ff2100af",
      "metadata": {
        "id": "e5ac4b40-7023-498a-9ddf-bc06ff2100af",
        "tags": []
      },
      "source": [
        "### **Test the DeepSORT model**"
      ]
    },
    {
      "cell_type": "code",
      "execution_count": null,
      "id": "c837c657-cc81-426d-8060-ad19f5494461",
      "metadata": {
        "id": "c837c657-cc81-426d-8060-ad19f5494461"
      },
      "outputs": [],
      "source": [
        "import mmcv\n",
        "from mmdet.apis import set_random_seed\n",
        "cfg = mmcv.Config.fromfile('./configs/mot/deepsort/deepsort_faster-rcnn_fpn_4e_mot17-private-half.py')\n",
        "cfg.data_root = 'data/MOT17_tiny/'\n",
        "cfg.data.test.ann_file = cfg.data.test.ann_file.replace('data/MOT17/','data/MOT17_tiny/')\n",
        "cfg.data.train.ann_file = cfg.data.test.ann_file.replace('data/MOT17/','data/MOT17_tiny/')\n",
        "cfg.data.val.ann_file = cfg.data.val.ann_file.replace('data/MOT17/','data/MOT17_tiny/')\n",
        "\n",
        "cfg.data.test.img_prefix = cfg.data.test.img_prefix.replace('data/MOT17/','data/MOT17_tiny/')\n",
        "cfg.data.train.img_prefix = cfg.data.train.img_prefix.replace('data/MOT17/','data/MOT17_tiny/')\n",
        "cfg.data.val.img_prefix = cfg.data.val.img_prefix.replace('data/MOT17/','data/MOT17_tiny/')\n",
        "\n",
        "cfg.model.detector.init_cfg.checkpoint = './tutorial_exps/detector/epoch_4.pth'\n",
        "cfg.model.reid.init_cfg.checkpoint = './tutorial_exps/reid/epoch_2.pth'\n",
        "\n",
        "cfg.work_dir = './tutorial_exps'\n",
        "cfg.seed = 0\n",
        "set_random_seed(0, deterministic=False)\n",
        "cfg.gpu_ids = range(1)\n",
        "cfg.data.test.test_mode = True\n",
        "print(f'Config:\\n{cfg.pretty_text}')"
      ]
    },
    {
      "cell_type": "code",
      "execution_count": null,
      "id": "29c9f531-3ea9-42d3-9fb3-bcdd13594406",
      "metadata": {
        "id": "29c9f531-3ea9-42d3-9fb3-bcdd13594406"
      },
      "outputs": [],
      "source": [
        "from mmtrack.datasets import build_dataloader\n",
        "from mmtrack.apis import init_model\n",
        "from mmcv.parallel import MMDataParallel\n",
        "from mmtrack.apis import single_gpu_test\n",
        "from mmtrack.datasets import build_dataset\n",
        "\n",
        "dataset = build_dataset(cfg.data.test)\n",
        "data_loader = build_dataloader(\n",
        "    dataset,\n",
        "    samples_per_gpu=1,\n",
        "    workers_per_gpu=cfg.data.workers_per_gpu,\n",
        "    dist=False,\n",
        "    shuffle=False)\n",
        "\n",
        "# build the model and load checkpoint\n",
        "model = init_model(cfg)\n",
        "\n",
        "model = MMDataParallel(model, device_ids=cfg.gpu_ids)\n",
        "outputs = single_gpu_test(model, data_loader)\n",
        "\n",
        "eval_kwargs = cfg.get('evaluation', {}).copy()\n",
        "# hard-code way to remove EvalHook args\n",
        "eval_hook_args = [\n",
        "    'interval', 'tmpdir', 'start', 'gpu_collect', 'save_best',\n",
        "    'rule', 'by_epoch'\n",
        "]\n",
        "for key in eval_hook_args:\n",
        "    eval_kwargs.pop(key, None)\n",
        "eval_kwargs.update(dict(metric=['track']))\n",
        "metric = dataset.evaluate(outputs, **eval_kwargs)\n",
        "print(metric)"
      ]
    }
  ],
  "metadata": {
    "accelerator": "GPU",
    "colab": {
      "name": "Copy of Copy of MMTracking_Tutorial.ipynb",
      "provenance": []
    },
    "kernelspec": {
      "display_name": "Python 3 (ipykernel)",
      "language": "python",
      "name": "python3"
    },
    "language_info": {
      "codemirror_mode": {
        "name": "ipython",
        "version": 3
      },
      "file_extension": ".py",
      "mimetype": "text/x-python",
      "name": "python",
      "nbconvert_exporter": "python",
      "pygments_lexer": "ipython3",
      "version": "3.8.16"
    }
  },
  "nbformat": 4,
  "nbformat_minor": 5
}
