{
 "cells": [
  {
   "cell_type": "code",
   "execution_count": 1,
   "metadata": {},
   "outputs": [
    {
     "name": "stderr",
     "output_type": "stream",
     "text": [
      "c:\\Users\\A\\anaconda3\\envs\\PCT_new_new\\lib\\site-packages\\tqdm\\auto.py:21: TqdmWarning: IProgress not found. Please update jupyter and ipywidgets. See https://ipywidgets.readthedocs.io/en/stable/user_install.html\n",
      "  from .autonotebook import tqdm as notebook_tqdm\n",
      "c:\\Users\\A\\anaconda3\\envs\\PCT_new_new\\lib\\site-packages\\mmcv\\__init__.py:20: UserWarning: On January 1, 2023, MMCV will release v2.0.0, in which it will remove components related to the training process and add a data transformation module. In addition, it will rename the package names mmcv to mmcv-lite and mmcv-full to mmcv. See https://github.com/open-mmlab/mmcv/blob/master/docs/en/compatibility.md for more details.\n",
      "  warnings.warn(\n"
     ]
    },
    {
     "name": "stdout",
     "output_type": "stream",
     "text": [
      "load checkpoint from http path: https://download.openmmlab.com/mmdetection/v2.0/cascade_rcnn/cascade_rcnn_x101_64x4d_fpn_20e_coco/cascade_rcnn_x101_64x4d_fpn_20e_coco_20200509_224357-051557b1.pth\n",
      "norm8_log_bylayer: [(16, 16)] ==> [12]\n",
      "norm8_log_bylayer: [(16, 16)] ==> [12]\n",
      "norm8_log_bylayer: [(16, 16)] ==> [12]\n",
      "norm8_log_bylayer: [(16, 16)] ==> [12]\n",
      "norm8_log_bylayer: [(16, 16)] ==> [12]\n",
      "norm8_log_bylayer: [(16, 16)] ==> [12]\n",
      "norm8_log_bylayer: [(16, 16)] ==> [12]\n",
      "norm8_log_bylayer: [(16, 16)] ==> [12]\n",
      "norm8_log_bylayer: [(16, 16)] ==> [12]\n",
      "norm8_log_bylayer: [(16, 16)] ==> [12]\n",
      "norm8_log_bylayer: [(16, 16)] ==> [12]\n",
      "norm8_log_bylayer: [(16, 16)] ==> [12]\n",
      "norm8_log_bylayer: [(16, 16)] ==> [12]\n",
      "norm8_log_bylayer: [(16, 16)] ==> [12]\n",
      "norm8_log_bylayer: [(16, 16)] ==> [12]\n",
      "norm8_log_bylayer: [(16, 16)] ==> [12]\n",
      "norm8_log_bylayer: [(16, 16)] ==> [12]\n",
      "norm8_log_bylayer: [(16, 16)] ==> [12]\n",
      "norm8_log_bylayer: [(16, 16)] ==> [12]\n",
      "norm8_log_bylayer: [(16, 16)] ==> [12]\n",
      "norm8_log_bylayer: [(16, 16)] ==> [12]\n",
      "norm8_log_bylayer: [(16, 16)] ==> [12]\n",
      "norm8_log_bylayer: [(8, 8)] ==> [6]\n",
      "norm8_log_bylayer: [(8, 8)] ==> [6]\n",
      "norm8_log_bylayer: [(16, 16)] ==> [12]\n",
      "norm8_log_bylayer: [(16, 16)] ==> [12]\n",
      "norm8_log_bylayer: [(16, 16)] ==> [12]\n",
      "norm8_log_bylayer: [(16, 16)] ==> [12]\n",
      "norm8_log_bylayer: [(16, 16)] ==> [12]\n",
      "norm8_log_bylayer: [(16, 16)] ==> [12]\n",
      "norm8_log_bylayer: [(16, 16)] ==> [12]\n",
      "norm8_log_bylayer: [(16, 16)] ==> [12]\n",
      "norm8_log_bylayer: [(16, 16)] ==> [12]\n",
      "norm8_log_bylayer: [(16, 16)] ==> [12]\n",
      "norm8_log_bylayer: [(16, 16)] ==> [12]\n",
      "norm8_log_bylayer: [(16, 16)] ==> [12]\n",
      "norm8_log_bylayer: [(16, 16)] ==> [12]\n",
      "norm8_log_bylayer: [(16, 16)] ==> [12]\n",
      "norm8_log_bylayer: [(16, 16)] ==> [12]\n",
      "norm8_log_bylayer: [(16, 16)] ==> [12]\n",
      "norm8_log_bylayer: [(16, 16)] ==> [12]\n",
      "norm8_log_bylayer: [(16, 16)] ==> [12]\n",
      "norm8_log_bylayer: [(16, 16)] ==> [12]\n",
      "norm8_log_bylayer: [(16, 16)] ==> [12]\n",
      "norm8_log_bylayer: [(16, 16)] ==> [12]\n",
      "norm8_log_bylayer: [(16, 16)] ==> [12]\n",
      "norm8_log_bylayer: [(8, 8)] ==> [6]\n",
      "norm8_log_bylayer: [(8, 8)] ==> [6]\n",
      "load checkpoint from local path: C:\\Users\\A\\Documents\\RISE\\segling\\PCT\\weights\\pct\\swin_base.pth\n"
     ]
    }
   ],
   "source": [
    "from model_api import PoseExtraction\n",
    "p=PoseExtraction()"
   ]
  },
  {
   "cell_type": "code",
   "execution_count": 2,
   "metadata": {},
   "outputs": [
    {
     "name": "stdout",
     "output_type": "stream",
     "text": [
      "[array([[1.0609572e+03, 8.5471643e+02, 1.1252570e+03, 9.2139905e+02,\n",
      "        3.8878888e-01],\n",
      "       [9.9959229e+02, 8.5491980e+02, 1.1261660e+03, 9.3082355e+02,\n",
      "        1.6644955e-01],\n",
      "       [9.6475989e+02, 8.8491229e+02, 9.8161871e+02, 9.1337073e+02,\n",
      "        1.1975530e-01],\n",
      "       [1.0010280e+03, 8.8446008e+02, 1.0200154e+03, 9.2475598e+02,\n",
      "        6.9724977e-02]], dtype=float32), array([], shape=(0, 5), dtype=float32), array([], shape=(0, 5), dtype=float32), array([], shape=(0, 5), dtype=float32), array([], shape=(0, 5), dtype=float32), array([], shape=(0, 5), dtype=float32), array([], shape=(0, 5), dtype=float32), array([], shape=(0, 5), dtype=float32), array([[9.1120233e+02, 3.8995358e+02, 1.2092057e+03, 9.5847815e+02,\n",
      "        9.5637423e-01],\n",
      "       [9.1043494e+02, 8.7050238e+02, 1.2036573e+03, 9.5093793e+02,\n",
      "        2.3626329e-01]], dtype=float32), array([], shape=(0, 5), dtype=float32), array([], shape=(0, 5), dtype=float32), array([], shape=(0, 5), dtype=float32), array([], shape=(0, 5), dtype=float32), array([], shape=(0, 5), dtype=float32), array([], shape=(0, 5), dtype=float32), array([], shape=(0, 5), dtype=float32), array([], shape=(0, 5), dtype=float32), array([], shape=(0, 5), dtype=float32), array([], shape=(0, 5), dtype=float32), array([], shape=(0, 5), dtype=float32), array([], shape=(0, 5), dtype=float32), array([], shape=(0, 5), dtype=float32), array([], shape=(0, 5), dtype=float32), array([], shape=(0, 5), dtype=float32), array([], shape=(0, 5), dtype=float32), array([], shape=(0, 5), dtype=float32), array([], shape=(0, 5), dtype=float32), array([], shape=(0, 5), dtype=float32), array([], shape=(0, 5), dtype=float32), array([], shape=(0, 5), dtype=float32), array([], shape=(0, 5), dtype=float32), array([], shape=(0, 5), dtype=float32), array([], shape=(0, 5), dtype=float32), array([], shape=(0, 5), dtype=float32), array([], shape=(0, 5), dtype=float32), array([], shape=(0, 5), dtype=float32), array([], shape=(0, 5), dtype=float32), array([], shape=(0, 5), dtype=float32), array([], shape=(0, 5), dtype=float32), array([], shape=(0, 5), dtype=float32), array([], shape=(0, 5), dtype=float32), array([], shape=(0, 5), dtype=float32), array([], shape=(0, 5), dtype=float32), array([], shape=(0, 5), dtype=float32), array([], shape=(0, 5), dtype=float32), array([], shape=(0, 5), dtype=float32), array([], shape=(0, 5), dtype=float32), array([], shape=(0, 5), dtype=float32), array([], shape=(0, 5), dtype=float32), array([], shape=(0, 5), dtype=float32), array([], shape=(0, 5), dtype=float32), array([], shape=(0, 5), dtype=float32), array([], shape=(0, 5), dtype=float32), array([], shape=(0, 5), dtype=float32), array([], shape=(0, 5), dtype=float32), array([], shape=(0, 5), dtype=float32), array([], shape=(0, 5), dtype=float32), array([], shape=(0, 5), dtype=float32), array([], shape=(0, 5), dtype=float32), array([], shape=(0, 5), dtype=float32), array([], shape=(0, 5), dtype=float32), array([], shape=(0, 5), dtype=float32), array([], shape=(0, 5), dtype=float32), array([], shape=(0, 5), dtype=float32), array([], shape=(0, 5), dtype=float32), array([], shape=(0, 5), dtype=float32), array([], shape=(0, 5), dtype=float32), array([], shape=(0, 5), dtype=float32), array([], shape=(0, 5), dtype=float32), array([], shape=(0, 5), dtype=float32), array([], shape=(0, 5), dtype=float32), array([], shape=(0, 5), dtype=float32), array([], shape=(0, 5), dtype=float32), array([], shape=(0, 5), dtype=float32), array([], shape=(0, 5), dtype=float32), array([], shape=(0, 5), dtype=float32), array([], shape=(0, 5), dtype=float32), array([], shape=(0, 5), dtype=float32), array([], shape=(0, 5), dtype=float32), array([], shape=(0, 5), dtype=float32)]\n"
     ]
    },
    {
     "ename": "AttributeError",
     "evalue": "'PoseExtraction' object has no attribute 'bbox_threshold'",
     "output_type": "error",
     "traceback": [
      "\u001b[1;31m---------------------------------------------------------------------------\u001b[0m",
      "\u001b[1;31mAttributeError\u001b[0m                            Traceback (most recent call last)",
      "Cell \u001b[1;32mIn[2], line 2\u001b[0m\n\u001b[0;32m      1\u001b[0m \u001b[39mfrom\u001b[39;00m \u001b[39mmodel_api\u001b[39;00m \u001b[39mimport\u001b[39;00m VType\n\u001b[1;32m----> 2\u001b[0m p\u001b[39m.\u001b[39;49mvideo_inference(\u001b[39m\"\u001b[39;49m\u001b[39m470Hiking.mov\u001b[39;49m\u001b[39m\"\u001b[39;49m,vis\u001b[39m=\u001b[39;49mVType\u001b[39m.\u001b[39;49mBBOX)\n",
      "File \u001b[1;32mc:\\Users\\A\\Documents\\RISE\\segling\\PCT\\model_api.py:170\u001b[0m, in \u001b[0;36mPoseExtraction.video_inference\u001b[1;34m(self, video_name, vis, framerate, video_folder, output_dir, thickness)\u001b[0m\n\u001b[0;32m    163\u001b[0m output_layer_names \u001b[39m=\u001b[39m \u001b[39mNone\u001b[39;00m\n\u001b[0;32m    165\u001b[0m \u001b[39m#can be given a list of images from memory\u001b[39;00m\n\u001b[0;32m    166\u001b[0m pose_results, returned_outputs \u001b[39m=\u001b[39m inference_top_down_pose_model(\n\u001b[0;32m    167\u001b[0m     \u001b[39mself\u001b[39m\u001b[39m.\u001b[39mpose_model,\n\u001b[0;32m    168\u001b[0m     frame,\n\u001b[0;32m    169\u001b[0m     person_results,\n\u001b[1;32m--> 170\u001b[0m     bbox_thr\u001b[39m=\u001b[39m\u001b[39mself\u001b[39;49m\u001b[39m.\u001b[39;49mbbox_threshold,\n\u001b[0;32m    171\u001b[0m     \u001b[39mformat\u001b[39m\u001b[39m=\u001b[39m\u001b[39m'\u001b[39m\u001b[39mxyxy\u001b[39m\u001b[39m'\u001b[39m,\n\u001b[0;32m    172\u001b[0m     dataset\u001b[39m=\u001b[39m\u001b[39mself\u001b[39m\u001b[39m.\u001b[39mdataset,\n\u001b[0;32m    173\u001b[0m     dataset_info\u001b[39m=\u001b[39m\u001b[39mself\u001b[39m\u001b[39m.\u001b[39m_dataset_info,\n\u001b[0;32m    174\u001b[0m     return_heatmap\u001b[39m=\u001b[39mreturn_heatmap,\n\u001b[0;32m    175\u001b[0m     outputs\u001b[39m=\u001b[39moutput_layer_names)\n\u001b[0;32m    177\u001b[0m output_data\u001b[39m.\u001b[39mappend(pose_results)\n\u001b[0;32m    179\u001b[0m \u001b[39m# show the results depending on vis\u001b[39;00m\n",
      "\u001b[1;31mAttributeError\u001b[0m: 'PoseExtraction' object has no attribute 'bbox_threshold'"
     ]
    }
   ],
   "source": [
    "from model_api import VType\n",
    "p.video_inference(\"470Hiking.mov\",vis=VType.BBOX,bbox_threshold=0.3)"
   ]
  }
 ],
 "metadata": {
  "kernelspec": {
   "display_name": "PCT_new_new",
   "language": "python",
   "name": "python3"
  },
  "language_info": {
   "codemirror_mode": {
    "name": "ipython",
    "version": 3
   },
   "file_extension": ".py",
   "mimetype": "text/x-python",
   "name": "python",
   "nbconvert_exporter": "python",
   "pygments_lexer": "ipython3",
   "version": "3.8.16"
  },
  "orig_nbformat": 4
 },
 "nbformat": 4,
 "nbformat_minor": 2
}
