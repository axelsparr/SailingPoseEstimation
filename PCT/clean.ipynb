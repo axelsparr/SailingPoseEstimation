{
 "cells": [
  {
   "cell_type": "code",
   "execution_count": 1,
   "metadata": {},
   "outputs": [
    {
     "name": "stderr",
     "output_type": "stream",
     "text": [
      "c:\\Users\\A\\anaconda3\\envs\\PCT_new_new\\lib\\site-packages\\tqdm\\auto.py:21: TqdmWarning: IProgress not found. Please update jupyter and ipywidgets. See https://ipywidgets.readthedocs.io/en/stable/user_install.html\n",
      "  from .autonotebook import tqdm as notebook_tqdm\n",
      "c:\\Users\\A\\anaconda3\\envs\\PCT_new_new\\lib\\site-packages\\mmcv\\__init__.py:20: UserWarning: On January 1, 2023, MMCV will release v2.0.0, in which it will remove components related to the training process and add a data transformation module. In addition, it will rename the package names mmcv to mmcv-lite and mmcv-full to mmcv. See https://github.com/open-mmlab/mmcv/blob/master/docs/en/compatibility.md for more details.\n",
      "  warnings.warn(\n",
      "c:\\Users\\A\\anaconda3\\envs\\PCT_new_new\\lib\\site-packages\\scipy\\__init__.py:146: UserWarning: A NumPy version >=1.16.5 and <1.23.0 is required for this version of SciPy (detected version 1.24.4\n",
      "  warnings.warn(f\"A NumPy version >={np_minversion} and <{np_maxversion}\"\n"
     ]
    },
    {
     "name": "stdout",
     "output_type": "stream",
     "text": [
      "load checkpoint from http path: https://download.openmmlab.com/mmdetection/v2.0/cascade_rcnn/cascade_rcnn_x101_64x4d_fpn_20e_coco/cascade_rcnn_x101_64x4d_fpn_20e_coco_20200509_224357-051557b1.pth\n",
      "norm8_log_bylayer: [(16, 16)] ==> [12]\n",
      "norm8_log_bylayer: [(16, 16)] ==> [12]\n",
      "norm8_log_bylayer: [(16, 16)] ==> [12]\n",
      "norm8_log_bylayer: [(16, 16)] ==> [12]\n",
      "norm8_log_bylayer: [(16, 16)] ==> [12]\n",
      "norm8_log_bylayer: [(16, 16)] ==> [12]\n",
      "norm8_log_bylayer: [(16, 16)] ==> [12]\n",
      "norm8_log_bylayer: [(16, 16)] ==> [12]\n",
      "norm8_log_bylayer: [(16, 16)] ==> [12]\n",
      "norm8_log_bylayer: [(16, 16)] ==> [12]\n",
      "norm8_log_bylayer: [(16, 16)] ==> [12]\n",
      "norm8_log_bylayer: [(16, 16)] ==> [12]\n",
      "norm8_log_bylayer: [(16, 16)] ==> [12]\n",
      "norm8_log_bylayer: [(16, 16)] ==> [12]\n",
      "norm8_log_bylayer: [(16, 16)] ==> [12]\n",
      "norm8_log_bylayer: [(16, 16)] ==> [12]\n",
      "norm8_log_bylayer: [(16, 16)] ==> [12]\n",
      "norm8_log_bylayer: [(16, 16)] ==> [12]\n",
      "norm8_log_bylayer: [(16, 16)] ==> [12]\n",
      "norm8_log_bylayer: [(16, 16)] ==> [12]\n",
      "norm8_log_bylayer: [(16, 16)] ==> [12]\n",
      "norm8_log_bylayer: [(16, 16)] ==> [12]\n",
      "norm8_log_bylayer: [(8, 8)] ==> [6]\n",
      "norm8_log_bylayer: [(8, 8)] ==> [6]\n",
      "norm8_log_bylayer: [(16, 16)] ==> [12]\n",
      "norm8_log_bylayer: [(16, 16)] ==> [12]\n",
      "norm8_log_bylayer: [(16, 16)] ==> [12]\n",
      "norm8_log_bylayer: [(16, 16)] ==> [12]\n",
      "norm8_log_bylayer: [(16, 16)] ==> [12]\n",
      "norm8_log_bylayer: [(16, 16)] ==> [12]\n",
      "norm8_log_bylayer: [(16, 16)] ==> [12]\n",
      "norm8_log_bylayer: [(16, 16)] ==> [12]\n",
      "norm8_log_bylayer: [(16, 16)] ==> [12]\n",
      "norm8_log_bylayer: [(16, 16)] ==> [12]\n",
      "norm8_log_bylayer: [(16, 16)] ==> [12]\n",
      "norm8_log_bylayer: [(16, 16)] ==> [12]\n",
      "norm8_log_bylayer: [(16, 16)] ==> [12]\n",
      "norm8_log_bylayer: [(16, 16)] ==> [12]\n",
      "norm8_log_bylayer: [(16, 16)] ==> [12]\n",
      "norm8_log_bylayer: [(16, 16)] ==> [12]\n",
      "norm8_log_bylayer: [(16, 16)] ==> [12]\n",
      "norm8_log_bylayer: [(16, 16)] ==> [12]\n",
      "norm8_log_bylayer: [(16, 16)] ==> [12]\n",
      "norm8_log_bylayer: [(16, 16)] ==> [12]\n",
      "norm8_log_bylayer: [(16, 16)] ==> [12]\n",
      "norm8_log_bylayer: [(16, 16)] ==> [12]\n",
      "norm8_log_bylayer: [(8, 8)] ==> [6]\n",
      "norm8_log_bylayer: [(8, 8)] ==> [6]\n",
      "load checkpoint from local path: c:\\Users\\A\\Documents\\RISE\\segling\\SailingPoseEstimation\\PCT\\weights\\pct\\swin_base.pth\n"
     ]
    }
   ],
   "source": [
    "from model_api import PoseExtraction\n",
    "p=PoseExtraction()"
   ]
  },
  {
   "cell_type": "code",
   "execution_count": 2,
   "metadata": {},
   "outputs": [
    {
     "name": "stderr",
     "output_type": "stream",
     "text": [
      "Processing frames:   0%|          | 0/13 [00:00<?, ?frames/s]c:\\Users\\A\\anaconda3\\envs\\PCT_new_new\\lib\\site-packages\\torch\\utils\\checkpoint.py:25: UserWarning: None of the inputs have requires_grad=True. Gradients will be None\n",
      "  warnings.warn(\"None of the inputs have requires_grad=True. Gradients will be None\")\n",
      "Processing frames: 100%|██████████| 13/13 [00:14<00:00,  1.10s/frames]"
     ]
    },
    {
     "name": "stdout",
     "output_type": "stream",
     "text": [
      "Wrote visualization video to output/out_20_27.mp4\n",
      "Total frames processed: 13\n"
     ]
    },
    {
     "name": "stderr",
     "output_type": "stream",
     "text": [
      "\n"
     ]
    }
   ],
   "source": [
    "from model_api import VisType\n",
    "p.video_inference(\"470Hiking.mov\",vis_type=VisType.BBOX,bbox_threshold=0.3)"
   ]
  }
 ],
 "metadata": {
  "kernelspec": {
   "display_name": "PCT_new_new",
   "language": "python",
   "name": "python3"
  },
  "language_info": {
   "codemirror_mode": {
    "name": "ipython",
    "version": 3
   },
   "file_extension": ".py",
   "mimetype": "text/x-python",
   "name": "python",
   "nbconvert_exporter": "python",
   "pygments_lexer": "ipython3",
   "version": "3.8.16"
  },
  "orig_nbformat": 4
 },
 "nbformat": 4,
 "nbformat_minor": 2
}
