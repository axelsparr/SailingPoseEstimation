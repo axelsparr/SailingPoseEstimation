{
 "cells": [
  {
   "cell_type": "code",
   "execution_count": 1,
   "metadata": {},
   "outputs": [
    {
     "name": "stdout",
     "output_type": "stream",
     "text": [
      "c:\\Users\\A\\Documents\\RISE\\segling\\SailingPoseEstimation\\PCT\\RVRT\n"
     ]
    },
    {
     "name": "stderr",
     "output_type": "stream",
     "text": [
      "Cloning into 'RVRT'...\n"
     ]
    }
   ],
   "source": [
    "!git clone https://github.com/JingyunLiang/RVRT\n",
    "%cd RVRT"
   ]
  },
  {
   "cell_type": "code",
   "execution_count": 3,
   "metadata": {},
   "outputs": [
    {
     "data": {
      "text/plain": [
       "'2.0.1+cpu'"
      ]
     },
     "execution_count": 3,
     "metadata": {},
     "output_type": "execute_result"
    }
   ],
   "source": [
    "import torch\n",
    "torch.__version__"
   ]
  },
  {
   "cell_type": "code",
   "execution_count": 2,
   "metadata": {},
   "outputs": [
    {
     "name": "stdout",
     "output_type": "stream",
     "text": [
      "Collecting addict (from -r requirements.txt (line 1))\n",
      "  Using cached addict-2.4.0-py3-none-any.whl (3.8 kB)\n",
      "Collecting future (from -r requirements.txt (line 2))\n",
      "  Using cached future-0.18.3-py3-none-any.whl\n",
      "Collecting numpy (from -r requirements.txt (line 3))\n",
      "  Using cached numpy-1.24.4-cp38-cp38-win_amd64.whl (14.9 MB)\n",
      "Collecting opencv-python (from -r requirements.txt (line 4))\n",
      "  Downloading opencv_python-4.8.0.74-cp37-abi3-win_amd64.whl (38.1 MB)\n",
      "     --------------------------------------- 38.1/38.1 MB 59.4 MB/s eta 0:00:00\n",
      "Collecting Pillow (from -r requirements.txt (line 5))\n",
      "  Downloading Pillow-10.0.0-cp38-cp38-win_amd64.whl (2.5 MB)\n",
      "     ---------------------------------------- 2.5/2.5 MB 80.7 MB/s eta 0:00:00\n",
      "Collecting pyyaml (from -r requirements.txt (line 6))\n",
      "  Using cached PyYAML-6.0-cp38-cp38-win_amd64.whl (155 kB)\n",
      "Collecting requests (from -r requirements.txt (line 7))\n",
      "  Using cached requests-2.31.0-py3-none-any.whl (62 kB)\n",
      "Collecting scikit-image (from -r requirements.txt (line 8))\n",
      "  Using cached scikit_image-0.21.0-cp38-cp38-win_amd64.whl (22.7 MB)\n",
      "Collecting scipy (from -r requirements.txt (line 9))\n",
      "  Using cached scipy-1.10.1-cp38-cp38-win_amd64.whl (42.2 MB)\n",
      "Collecting torchvision (from -r requirements.txt (line 10))\n",
      "  Downloading torchvision-0.15.2-cp38-cp38-win_amd64.whl (1.2 MB)\n",
      "     ---------------------------------------- 1.2/1.2 MB 74.1 MB/s eta 0:00:00\n",
      "Collecting timm (from -r requirements.txt (line 11))\n",
      "  Using cached timm-0.9.2-py3-none-any.whl (2.2 MB)\n",
      "Collecting einops (from -r requirements.txt (line 12))\n",
      "  Using cached einops-0.6.1-py3-none-any.whl (42 kB)\n",
      "Collecting ninja (from -r requirements.txt (line 13))\n",
      "  Using cached ninja-1.11.1-py2.py3-none-win_amd64.whl (313 kB)\n",
      "Collecting charset-normalizer<4,>=2 (from requests->-r requirements.txt (line 7))\n",
      "  Using cached charset_normalizer-3.1.0-cp38-cp38-win_amd64.whl (96 kB)\n",
      "Collecting idna<4,>=2.5 (from requests->-r requirements.txt (line 7))\n",
      "  Using cached idna-3.4-py3-none-any.whl (61 kB)\n",
      "Collecting urllib3<3,>=1.21.1 (from requests->-r requirements.txt (line 7))\n",
      "  Using cached urllib3-2.0.3-py3-none-any.whl (123 kB)\n",
      "Collecting certifi>=2017.4.17 (from requests->-r requirements.txt (line 7))\n",
      "  Using cached certifi-2023.5.7-py3-none-any.whl (156 kB)\n",
      "Collecting networkx>=2.8 (from scikit-image->-r requirements.txt (line 8))\n",
      "  Using cached networkx-3.1-py3-none-any.whl (2.1 MB)\n",
      "Collecting imageio>=2.27 (from scikit-image->-r requirements.txt (line 8))\n",
      "  Using cached imageio-2.31.1-py3-none-any.whl (313 kB)\n",
      "Collecting tifffile>=2022.8.12 (from scikit-image->-r requirements.txt (line 8))\n",
      "  Using cached tifffile-2023.4.12-py3-none-any.whl (219 kB)\n",
      "Collecting PyWavelets>=1.1.1 (from scikit-image->-r requirements.txt (line 8))\n",
      "  Using cached PyWavelets-1.4.1-cp38-cp38-win_amd64.whl (4.2 MB)\n",
      "Requirement already satisfied: packaging>=21 in c:\\users\\a\\anaconda3\\envs\\rvrt_test\\lib\\site-packages (from scikit-image->-r requirements.txt (line 8)) (23.1)\n",
      "Collecting lazy_loader>=0.2 (from scikit-image->-r requirements.txt (line 8))\n",
      "  Downloading lazy_loader-0.3-py3-none-any.whl (9.1 kB)\n",
      "Collecting torch==2.0.1 (from torchvision->-r requirements.txt (line 10))\n",
      "  Using cached torch-2.0.1-cp38-cp38-win_amd64.whl (172.4 MB)\n",
      "Collecting filelock (from torch==2.0.1->torchvision->-r requirements.txt (line 10))\n",
      "  Using cached filelock-3.12.2-py3-none-any.whl (10 kB)\n",
      "Requirement already satisfied: typing-extensions in c:\\users\\a\\anaconda3\\envs\\rvrt_test\\lib\\site-packages (from torch==2.0.1->torchvision->-r requirements.txt (line 10)) (4.7.1)\n",
      "Collecting sympy (from torch==2.0.1->torchvision->-r requirements.txt (line 10))\n",
      "  Using cached sympy-1.12-py3-none-any.whl (5.7 MB)\n",
      "Collecting jinja2 (from torch==2.0.1->torchvision->-r requirements.txt (line 10))\n",
      "  Using cached Jinja2-3.1.2-py3-none-any.whl (133 kB)\n",
      "Collecting huggingface-hub (from timm->-r requirements.txt (line 11))\n",
      "  Using cached huggingface_hub-0.15.1-py3-none-any.whl (236 kB)\n",
      "Collecting safetensors (from timm->-r requirements.txt (line 11))\n",
      "  Using cached safetensors-0.3.1-cp38-cp38-win_amd64.whl (263 kB)\n",
      "Collecting fsspec (from huggingface-hub->timm->-r requirements.txt (line 11))\n",
      "  Using cached fsspec-2023.6.0-py3-none-any.whl (163 kB)\n",
      "Collecting tqdm>=4.42.1 (from huggingface-hub->timm->-r requirements.txt (line 11))\n",
      "  Using cached tqdm-4.65.0-py3-none-any.whl (77 kB)\n",
      "Requirement already satisfied: colorama in c:\\users\\a\\anaconda3\\envs\\rvrt_test\\lib\\site-packages (from tqdm>=4.42.1->huggingface-hub->timm->-r requirements.txt (line 11)) (0.4.6)\n",
      "Collecting MarkupSafe>=2.0 (from jinja2->torch==2.0.1->torchvision->-r requirements.txt (line 10))\n",
      "  Using cached MarkupSafe-2.1.3-cp38-cp38-win_amd64.whl (17 kB)\n",
      "Collecting mpmath>=0.19 (from sympy->torch==2.0.1->torchvision->-r requirements.txt (line 10))\n",
      "  Using cached mpmath-1.3.0-py3-none-any.whl (536 kB)\n",
      "Installing collected packages: safetensors, ninja, mpmath, addict, urllib3, tqdm, sympy, pyyaml, Pillow, numpy, networkx, MarkupSafe, lazy_loader, idna, future, fsspec, filelock, einops, charset-normalizer, certifi, tifffile, scipy, requests, PyWavelets, opencv-python, jinja2, imageio, torch, scikit-image, huggingface-hub, torchvision, timm\n",
      "Successfully installed MarkupSafe-2.1.3 Pillow-10.0.0 PyWavelets-1.4.1 addict-2.4.0 certifi-2023.5.7 charset-normalizer-3.1.0 einops-0.6.1 filelock-3.12.2 fsspec-2023.6.0 future-0.18.3 huggingface-hub-0.15.1 idna-3.4 imageio-2.31.1 jinja2-3.1.2 lazy_loader-0.3 mpmath-1.3.0 networkx-3.1 ninja-1.11.1 numpy-1.24.4 opencv-python-4.8.0.74 pyyaml-6.0 requests-2.31.0 safetensors-0.3.1 scikit-image-0.21.0 scipy-1.10.1 sympy-1.12 tifffile-2023.4.12 timm-0.9.2 torch-2.0.1 torchvision-0.15.2 tqdm-4.65.0 urllib3-2.0.3\n",
      "Looking in links: https://download.pytorch.org/whl/torch_stable.html\n",
      "Collecting torch==1.9.1+cu111\n",
      "  Downloading https://download.pytorch.org/whl/cu111/torch-1.9.1%2Bcu111-cp38-cp38-win_amd64.whl (3128.1 MB)\n",
      "     ---------------------------------------- 3.1/3.1 GB 934.4 kB/s eta 0:00:00\n",
      "Collecting torchvision==0.10.1+cu111\n",
      "  Downloading https://download.pytorch.org/whl/cu111/torchvision-0.10.1%2Bcu111-cp38-cp38-win_amd64.whl (2.5 MB)\n",
      "     ---------------------------------------- 2.5/2.5 MB 5.3 MB/s eta 0:00:00\n",
      "Collecting torchaudio==0.9.1\n",
      "  Downloading torchaudio-0.9.1-cp38-cp38-win_amd64.whl (216 kB)\n",
      "     -------------------------------------- 216.1/216.1 kB 1.6 MB/s eta 0:00:00\n",
      "Requirement already satisfied: typing-extensions in c:\\users\\a\\anaconda3\\envs\\rvrt_test\\lib\\site-packages (from torch==1.9.1+cu111) (4.7.1)\n",
      "Requirement already satisfied: numpy in c:\\users\\a\\anaconda3\\envs\\rvrt_test\\lib\\site-packages (from torchvision==0.10.1+cu111) (1.24.4)\n",
      "Requirement already satisfied: pillow>=5.3.0 in c:\\users\\a\\anaconda3\\envs\\rvrt_test\\lib\\site-packages (from torchvision==0.10.1+cu111) (10.0.0)\n",
      "Installing collected packages: torch, torchvision, torchaudio\n",
      "  Attempting uninstall: torch\n",
      "    Found existing installation: torch 2.0.1\n",
      "    Uninstalling torch-2.0.1:\n",
      "      Successfully uninstalled torch-2.0.1\n",
      "  Attempting uninstall: torchvision\n",
      "    Found existing installation: torchvision 0.15.2\n",
      "    Uninstalling torchvision-0.15.2:\n",
      "      Successfully uninstalled torchvision-0.15.2\n",
      "Successfully installed torch-1.9.1+cu111 torchaudio-0.9.1 torchvision-0.10.1+cu111\n"
     ]
    }
   ],
   "source": [
    "!pip install -r requirements.txt\n",
    "!pip install torch==1.10.0+cu111 torchvision==0.10.0+cu111 -f https://download.pytorch.org/whl/torch_stable.html"
   ]
  },
  {
   "cell_type": "code",
   "execution_count": 3,
   "metadata": {},
   "outputs": [
    {
     "name": "stdout",
     "output_type": "stream",
     "text": [
      "Collecting matplotlib\n",
      "  Using cached matplotlib-3.7.1-cp38-cp38-win_amd64.whl (7.6 MB)\n",
      "Collecting contourpy>=1.0.1 (from matplotlib)\n",
      "  Using cached contourpy-1.1.0-cp38-cp38-win_amd64.whl (470 kB)\n",
      "Collecting cycler>=0.10 (from matplotlib)\n",
      "  Using cached cycler-0.11.0-py3-none-any.whl (6.4 kB)\n",
      "Collecting fonttools>=4.22.0 (from matplotlib)\n",
      "  Using cached fonttools-4.40.0-cp38-cp38-win_amd64.whl (1.4 MB)\n",
      "Collecting kiwisolver>=1.0.1 (from matplotlib)\n",
      "  Using cached kiwisolver-1.4.4-cp38-cp38-win_amd64.whl (55 kB)\n",
      "Requirement already satisfied: numpy>=1.20 in c:\\users\\a\\anaconda3\\envs\\rvrt_test\\lib\\site-packages (from matplotlib) (1.24.4)\n",
      "Requirement already satisfied: packaging>=20.0 in c:\\users\\a\\anaconda3\\envs\\rvrt_test\\lib\\site-packages (from matplotlib) (23.1)\n",
      "Requirement already satisfied: pillow>=6.2.0 in c:\\users\\a\\anaconda3\\envs\\rvrt_test\\lib\\site-packages (from matplotlib) (10.0.0)\n",
      "Collecting pyparsing>=2.3.1 (from matplotlib)\n",
      "  Using cached pyparsing-3.1.0-py3-none-any.whl (102 kB)\n",
      "Requirement already satisfied: python-dateutil>=2.7 in c:\\users\\a\\anaconda3\\envs\\rvrt_test\\lib\\site-packages (from matplotlib) (2.8.2)\n",
      "Collecting importlib-resources>=3.2.0 (from matplotlib)\n",
      "  Using cached importlib_resources-5.12.0-py3-none-any.whl (36 kB)\n",
      "Requirement already satisfied: zipp>=3.1.0 in c:\\users\\a\\anaconda3\\envs\\rvrt_test\\lib\\site-packages (from importlib-resources>=3.2.0->matplotlib) (3.15.0)\n",
      "Requirement already satisfied: six>=1.5 in c:\\users\\a\\anaconda3\\envs\\rvrt_test\\lib\\site-packages (from python-dateutil>=2.7->matplotlib) (1.16.0)\n",
      "Installing collected packages: pyparsing, kiwisolver, importlib-resources, fonttools, cycler, contourpy, matplotlib\n",
      "Successfully installed contourpy-1.1.0 cycler-0.11.0 fonttools-4.40.0 importlib-resources-5.12.0 kiwisolver-1.4.4 matplotlib-3.7.1 pyparsing-3.1.0\n"
     ]
    }
   ],
   "source": [
    "!pip install matplotlib"
   ]
  },
  {
   "cell_type": "code",
   "execution_count": 5,
   "metadata": {},
   "outputs": [
    {
     "name": "stdout",
     "output_type": "stream",
     "text": [
      "^C\n"
     ]
    }
   ],
   "source": [
    "\n",
    "!python main_test_rvrt.py --task 001_RVRT_videosr_bi_REDS_30frames --folder_lq testsets\\uploaded --tile 30 64 64 --tile_overlap 2 20 20 --num_workers 1 --save_result"
   ]
  },
  {
   "cell_type": "code",
   "execution_count": null,
   "metadata": {
    "vscode": {
     "languageId": "powershell"
    }
   },
   "outputs": [
    {
     "name": "stdout",
     "output_type": "stream",
     "text": [
      "c:\\Users\\A\\Documents\\RISE\\segling\\SailingPoseEstimation\\PCT\\RVRT\n"
     ]
    },
    {
     "name": "stderr",
     "output_type": "stream",
     "text": [
      "Could Not Find C:\\Users\\A\\Documents\\RISE\\segling\\SailingPoseEstimation\\PCT\\RVRT\\testsets\\README.md\n",
      "No CUDA runtime is found, using CUDA_HOME='C:\\Program Files\\NVIDIA GPU Computing Toolkit\\CUDA\\v11.1'\n",
      "Traceback (most recent call last):\n",
      "  File \"c:\\Users\\A\\anaconda3\\envs\\PCT_new_new\\lib\\site-packages\\torch\\utils\\cpp_extension.py\", line 1893, in _run_ninja_build\n",
      "    subprocess.run(\n",
      "  File \"c:\\Users\\A\\anaconda3\\envs\\PCT_new_new\\lib\\subprocess.py\", line 516, in run\n",
      "    raise CalledProcessError(retcode, process.args,\n",
      "subprocess.CalledProcessError: Command '['ninja', '-v']' returned non-zero exit status 1.\n",
      "\n",
      "The above exception was the direct cause of the following exception:\n",
      "\n",
      "Traceback (most recent call last):\n",
      "  File \"main_test_rvrt.py\", line 18, in <module>\n",
      "    from models.network_rvrt import RVRT as net\n",
      "  File \"c:\\Users\\A\\Documents\\RISE\\segling\\SailingPoseEstimation\\PCT\\RVRT\\models\\network_rvrt.py\", line 21, in <module>\n",
      "    from .op.deform_attn import deform_attn, DeformAttnPack\n",
      "  File \"c:\\Users\\A\\Documents\\RISE\\segling\\SailingPoseEstimation\\PCT\\RVRT\\models\\op\\deform_attn.py\", line 19, in <module>\n",
      "    deform_attn_ext = load(\n",
      "  File \"c:\\Users\\A\\anaconda3\\envs\\PCT_new_new\\lib\\site-packages\\torch\\utils\\cpp_extension.py\", line 1284, in load\n",
      "    return _jit_compile(\n",
      "  File \"c:\\Users\\A\\anaconda3\\envs\\PCT_new_new\\lib\\site-packages\\torch\\utils\\cpp_extension.py\", line 1509, in _jit_compile\n",
      "    _write_ninja_file_and_build_library(\n",
      "  File \"c:\\Users\\A\\anaconda3\\envs\\PCT_new_new\\lib\\site-packages\\torch\\utils\\cpp_extension.py\", line 1624, in _write_ninja_file_and_build_library\n",
      "    _run_ninja_build(\n",
      "  File \"c:\\Users\\A\\anaconda3\\envs\\PCT_new_new\\lib\\site-packages\\torch\\utils\\cpp_extension.py\", line 1909, in _run_ninja_build\n",
      "    raise RuntimeError(message) from e\n",
      "RuntimeError: Error building extension 'deform_attn': [1/2] C:\\Program Files\\NVIDIA GPU Computing Toolkit\\CUDA\\v11.1\\bin\\nvcc  -Xcudafe --diag_suppress=dll_interface_conflict_dllexport_assumed -Xcudafe --diag_suppress=dll_interface_conflict_none_assumed -Xcudafe --diag_suppress=field_without_dll_interface -Xcudafe --diag_suppress=base_class_has_different_dll_interface -Xcompiler /EHsc -Xcompiler /wd4190 -Xcompiler /wd4018 -Xcompiler /wd4275 -Xcompiler /wd4267 -Xcompiler /wd4244 -Xcompiler /wd4251 -Xcompiler /wd4819 -Xcompiler /MD -DTORCH_EXTENSION_NAME=deform_attn -DTORCH_API_INCLUDE_EXTENSION_H -Ic:\\Users\\A\\anaconda3\\envs\\PCT_new_new\\lib\\site-packages\\torch\\include -Ic:\\Users\\A\\anaconda3\\envs\\PCT_new_new\\lib\\site-packages\\torch\\include\\torch\\csrc\\api\\include -Ic:\\Users\\A\\anaconda3\\envs\\PCT_new_new\\lib\\site-packages\\torch\\include\\TH -Ic:\\Users\\A\\anaconda3\\envs\\PCT_new_new\\lib\\site-packages\\torch\\include\\THC \"-IC:\\Program Files\\NVIDIA GPU Computing Toolkit\\CUDA\\v11.1\\include\" -Ic:\\Users\\A\\anaconda3\\envs\\PCT_new_new\\Include -D_GLIBCXX_USE_CXX11_ABI=0 -D__CUDA_NO_HALF_OPERATORS__ -D__CUDA_NO_HALF_CONVERSIONS__ -D__CUDA_NO_BFLOAT16_CONVERSIONS__ -D__CUDA_NO_HALF2_OPERATORS__ --expt-relaxed-constexpr -gencode=arch=compute_86,code=sm_86 -c c:\\Users\\A\\Documents\\RISE\\segling\\SailingPoseEstimation\\PCT\\RVRT\\models\\op\\deform_attn_cuda_kernel.cu -o deform_attn_cuda_kernel.cuda.o \n",
      "\n",
      "FAILED: deform_attn_cuda_kernel.cuda.o \n",
      "\n",
      "C:\\Program Files\\NVIDIA GPU Computing Toolkit\\CUDA\\v11.1\\bin\\nvcc  -Xcudafe --diag_suppress=dll_interface_conflict_dllexport_assumed -Xcudafe --diag_suppress=dll_interface_conflict_none_assumed -Xcudafe --diag_suppress=field_without_dll_interface -Xcudafe --diag_suppress=base_class_has_different_dll_interface -Xcompiler /EHsc -Xcompiler /wd4190 -Xcompiler /wd4018 -Xcompiler /wd4275 -Xcompiler /wd4267 -Xcompiler /wd4244 -Xcompiler /wd4251 -Xcompiler /wd4819 -Xcompiler /MD -DTORCH_EXTENSION_NAME=deform_attn -DTORCH_API_INCLUDE_EXTENSION_H -Ic:\\Users\\A\\anaconda3\\envs\\PCT_new_new\\lib\\site-packages\\torch\\include -Ic:\\Users\\A\\anaconda3\\envs\\PCT_new_new\\lib\\site-packages\\torch\\include\\torch\\csrc\\api\\include -Ic:\\Users\\A\\anaconda3\\envs\\PCT_new_new\\lib\\site-packages\\torch\\include\\TH -Ic:\\Users\\A\\anaconda3\\envs\\PCT_new_new\\lib\\site-packages\\torch\\include\\THC \"-IC:\\Program Files\\NVIDIA GPU Computing Toolkit\\CUDA\\v11.1\\include\" -Ic:\\Users\\A\\anaconda3\\envs\\PCT_new_new\\Include -D_GLIBCXX_USE_CXX11_ABI=0 -D__CUDA_NO_HALF_OPERATORS__ -D__CUDA_NO_HALF_CONVERSIONS__ -D__CUDA_NO_BFLOAT16_CONVERSIONS__ -D__CUDA_NO_HALF2_OPERATORS__ --expt-relaxed-constexpr -gencode=arch=compute_86,code=sm_86 -c c:\\Users\\A\\Documents\\RISE\\segling\\SailingPoseEstimation\\PCT\\RVRT\\models\\op\\deform_attn_cuda_kernel.cu -o deform_attn_cuda_kernel.cuda.o \n",
      "c:/Users/A/anaconda3/envs/PCT_new_new/lib/site-packages/torch/include\\c10/macros/Macros.h(138): warning C4067: unexpected tokens following preprocessor directive - expected a newline\n",
      "\n",
      "c:/Users/A/anaconda3/envs/PCT_new_new/lib/site-packages/torch/include\\c10/cuda/CUDAMacros.h(8): fatal error C1083: Cannot open include file: 'c10/cuda/impl/cuda_cmake_macros.h': No such file or directory\n",
      "\n",
      "\n",
      "deform_attn_cuda_kernel.cu\n",
      "\n",
      "\n",
      "ninja: build stopped: subcommand failed.\n",
      "\n",
      "\n"
     ]
    }
   ],
   "source": [
    "!del C:\\Users\\A\\Documents\\RISE\\segling\\SailingPoseEstimation\\PCT\\RVRT\\testsets\\README.md\n",
    "%cd RVRT\n",
    "!python main_test_rvrt.py --task 001_RVRT_videosr_bi_REDS_30frames --folder_lq ./testsets --tile 30 64 64 --tile_overlap 2 20 20 --num_workers 2 --save_result"
   ]
  },
  {
   "cell_type": "code",
   "execution_count": null,
   "metadata": {
    "vscode": {
     "languageId": "powershell"
    }
   },
   "outputs": [
    {
     "data": {
      "text/plain": [
       "False"
      ]
     },
     "metadata": {},
     "output_type": "display_data"
    }
   ],
   "source": [
    "torch.cuda.is_available()"
   ]
  },
  {
   "cell_type": "code",
   "execution_count": null,
   "metadata": {},
   "outputs": [
    {
     "data": {
      "text/plain": [
       "'1.8.0+cu111'"
      ]
     },
     "metadata": {},
     "output_type": "display_data"
    }
   ],
   "source": [
    "import torch\n",
    "torch.__version__"
   ]
  },
  {
   "cell_type": "code",
   "execution_count": null,
   "metadata": {},
   "outputs": [
    {
     "data": {
      "text/plain": [
       "'c:\\\\Users\\\\A\\\\Documents\\\\RISE\\\\segling\\\\SailingPoseEstimation\\\\PCT\\\\video_frames\\\\470Hiking'"
      ]
     },
     "metadata": {},
     "output_type": "display_data"
    }
   ],
   "source": []
  },
  {
   "cell_type": "code",
   "execution_count": null,
   "metadata": {},
   "outputs": [
    {
     "name": "stderr",
     "output_type": "stream",
     "text": [
      "c:\\Users\\A\\anaconda3\\envs\\PCT_new_new\\lib\\site-packages\\tqdm\\auto.py:21: TqdmWarning: IProgress not found. Please update jupyter and ipywidgets. See https://ipywidgets.readthedocs.io/en/stable/user_install.html\n",
      "  from .autonotebook import tqdm as notebook_tqdm\n"
     ]
    },
    {
     "data": {
      "text/plain": [
       "'1.8.0+cu111'"
      ]
     },
     "metadata": {},
     "output_type": "display_data"
    }
   ],
   "source": [
    "import torch\n",
    "torch.__version__"
   ]
  }
 ],
 "metadata": {
  "kernelspec": {
   "display_name": "RVRT_test",
   "language": "python",
   "name": "python3"
  },
  "language_info": {
   "codemirror_mode": {
    "name": "ipython",
    "version": 3
   },
   "file_extension": ".py",
   "mimetype": "text/x-python",
   "name": "python",
   "nbconvert_exporter": "python",
   "pygments_lexer": "ipython3",
   "version": "3.8.16"
  },
  "orig_nbformat": 4
 },
 "nbformat": 4,
 "nbformat_minor": 2
}
